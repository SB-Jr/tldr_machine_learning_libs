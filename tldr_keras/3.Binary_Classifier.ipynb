{
 "cells": [
  {
   "cell_type": "markdown",
   "metadata": {
    "toc": true
   },
   "source": [
    "<h1>Table of Contents<span class=\"tocSkip\"></span></h1>\n",
    "<div class=\"toc\"><ul class=\"toc-item\"><li><span><a href=\"#Dataset\" data-toc-modified-id=\"Dataset-1\"><span class=\"toc-item-num\">1&nbsp;&nbsp;</span>Dataset</a></span></li><li><span><a href=\"#Definig-model\" data-toc-modified-id=\"Definig-model-2\"><span class=\"toc-item-num\">2&nbsp;&nbsp;</span>Definig model</a></span><ul class=\"toc-item\"><li><span><a href=\"#Import-the-data\" data-toc-modified-id=\"Import-the-data-2.1\"><span class=\"toc-item-num\">2.1&nbsp;&nbsp;</span>Import the data</a></span></li><li><span><a href=\"#Split-the-data\" data-toc-modified-id=\"Split-the-data-2.2\"><span class=\"toc-item-num\">2.2&nbsp;&nbsp;</span>Split the data</a></span></li></ul></li><li><span><a href=\"#Compile-the-model\" data-toc-modified-id=\"Compile-the-model-3\"><span class=\"toc-item-num\">3&nbsp;&nbsp;</span>Compile the model</a></span></li><li><span><a href=\"#Fit-the-model\" data-toc-modified-id=\"Fit-the-model-4\"><span class=\"toc-item-num\">4&nbsp;&nbsp;</span>Fit the model</a></span></li><li><span><a href=\"#Evaluate-the-model\" data-toc-modified-id=\"Evaluate-the-model-5\"><span class=\"toc-item-num\">5&nbsp;&nbsp;</span>Evaluate the model</a></span></li><li><span><a href=\"#make-a-prediction\" data-toc-modified-id=\"make-a-prediction-6\"><span class=\"toc-item-num\">6&nbsp;&nbsp;</span>make a prediction</a></span></li></ul></div>"
   ]
  },
  {
   "cell_type": "markdown",
   "metadata": {},
   "source": [
    "# Dataset\n",
    "\n",
    "We will be using the Ionosphere binary dataset. This dataset involves predicting whether a structure is in the atmosphere or not given radar returns."
   ]
  },
  {
   "cell_type": "markdown",
   "metadata": {},
   "source": [
    "We will use a LabelEncoder to encode the string labels to integer values 0 and 1. The model will be fit on 67 percent of the data, and the remaining 33 percent will be used for evaluation."
   ]
  },
  {
   "cell_type": "markdown",
   "metadata": {},
   "source": [
    "It is a good practice to use ‘relu‘ activation with a ‘he_normal‘ weight initialization. This combination goes a long way to overcome the problem of vanishing gradients when training deep neural network models."
   ]
  },
  {
   "cell_type": "markdown",
   "metadata": {},
   "source": [
    "The model is optimized using the adam version of stochastic gradient descent and seeks to minimize the cross-entropy loss."
   ]
  },
  {
   "cell_type": "markdown",
   "metadata": {},
   "source": [
    "# Definig model"
   ]
  },
  {
   "cell_type": "markdown",
   "metadata": {},
   "source": [
    "## Import the data"
   ]
  },
  {
   "cell_type": "code",
   "execution_count": 25,
   "metadata": {
    "ExecuteTime": {
     "end_time": "2020-05-01T08:23:11.124328Z",
     "start_time": "2020-05-01T08:23:11.121124Z"
    }
   },
   "outputs": [],
   "source": [
    "from tensorflow.keras import Sequential\n",
    "from tensorflow.keras import Input\n",
    "from tensorflow.keras.layers import Dense\n",
    "from sklearn.preprocessing import LabelEncoder\n",
    "from sklearn.model_selection import train_test_split\n",
    "import pandas as pd\n",
    "import unittest as ut"
   ]
  },
  {
   "cell_type": "code",
   "execution_count": 5,
   "metadata": {
    "ExecuteTime": {
     "end_time": "2020-05-01T08:06:36.476803Z",
     "start_time": "2020-05-01T08:06:36.472389Z"
    }
   },
   "outputs": [],
   "source": [
    "dataset_path = '3rdparty/ionosphere/ionosphere.csv'"
   ]
  },
  {
   "cell_type": "code",
   "execution_count": 8,
   "metadata": {
    "ExecuteTime": {
     "end_time": "2020-05-01T08:08:32.223034Z",
     "start_time": "2020-05-01T08:08:32.213788Z"
    }
   },
   "outputs": [
    {
     "name": "stdout",
     "output_type": "stream",
     "text": [
      "(351, 35)\n"
     ]
    }
   ],
   "source": [
    "dataset_df = pd.read_csv(dataset_path, header=None)\n",
    "print(dataset_df.shape)"
   ]
  },
  {
   "cell_type": "code",
   "execution_count": 12,
   "metadata": {
    "ExecuteTime": {
     "end_time": "2020-05-01T08:09:13.318419Z",
     "start_time": "2020-05-01T08:09:13.313325Z"
    }
   },
   "outputs": [
    {
     "name": "stdout",
     "output_type": "stream",
     "text": [
      "(351, 34)\n",
      "(351,)\n"
     ]
    }
   ],
   "source": [
    "X_df, y_df = dataset_df.values[:, : -1], dataset_df.values[:,-1]\n",
    "print(X_df.shape)\n",
    "print(y_df.shape)"
   ]
  },
  {
   "cell_type": "code",
   "execution_count": 14,
   "metadata": {
    "ExecuteTime": {
     "end_time": "2020-05-01T08:10:09.864171Z",
     "start_time": "2020-05-01T08:10:09.861035Z"
    }
   },
   "outputs": [],
   "source": [
    "X_df = X_df.astype('float32')\n",
    "y_df = LabelEncoder().fit_transform(y_df)"
   ]
  },
  {
   "cell_type": "markdown",
   "metadata": {},
   "source": [
    "## Split the data"
   ]
  },
  {
   "cell_type": "code",
   "execution_count": 15,
   "metadata": {
    "ExecuteTime": {
     "end_time": "2020-05-01T08:16:52.063408Z",
     "start_time": "2020-05-01T08:16:52.033136Z"
    }
   },
   "outputs": [],
   "source": [
    "X_train_df, X_test_df, y_train_df, y_test_df = train_test_split(X_df, y_df, test_size = 0.33)"
   ]
  },
  {
   "cell_type": "code",
   "execution_count": 45,
   "metadata": {
    "ExecuteTime": {
     "end_time": "2020-05-01T08:35:00.882156Z",
     "start_time": "2020-05-01T08:35:00.876864Z"
    }
   },
   "outputs": [
    {
     "name": "stdout",
     "output_type": "stream",
     "text": [
      "(235, 34)\n",
      "(116, 34)\n",
      "(235,)\n",
      "(116,)\n"
     ]
    }
   ],
   "source": [
    "print(X_train_df.shape)\n",
    "print(X_test_df.shape)\n",
    "print(y_train_df.shape)\n",
    "print(y_test_df.shape)\n",
    "assert(X_test_df.shape[0] + X_train_df.shape[0] == X_df.shape[0])\n",
    "assert(X_df.shape[1] == X_train_df.shape[1])\n",
    "assert(X_df.shape[1] == X_test_df.shape[1])\n",
    "assert(y_test_df.shape[0] + y_train_df.shape[0] == y_df.shape[0])"
   ]
  },
  {
   "cell_type": "code",
   "execution_count": 44,
   "metadata": {
    "ExecuteTime": {
     "end_time": "2020-05-01T08:34:42.438427Z",
     "start_time": "2020-05-01T08:34:42.433880Z"
    }
   },
   "outputs": [],
   "source": [
    "n_features = X_train_df.shape[1]"
   ]
  },
  {
   "cell_type": "code",
   "execution_count": 48,
   "metadata": {
    "ExecuteTime": {
     "end_time": "2020-05-01T09:20:09.752687Z",
     "start_time": "2020-05-01T09:20:09.706599Z"
    }
   },
   "outputs": [],
   "source": [
    "model = Sequential()\n",
    "model.add(Dense(10, activation='relu', kernel_initializer='he_normal', input_shape=(n_features,)))\n",
    "model.add(Dense(8, activation='relu', kernel_initializer='he_normal'))\n",
    "model.add(Dense(1, activation='relu'))"
   ]
  },
  {
   "cell_type": "markdown",
   "metadata": {},
   "source": [
    "# Compile the model"
   ]
  },
  {
   "cell_type": "code",
   "execution_count": 49,
   "metadata": {
    "ExecuteTime": {
     "end_time": "2020-05-01T09:21:06.940359Z",
     "start_time": "2020-05-01T09:21:06.871603Z"
    }
   },
   "outputs": [],
   "source": [
    "model.compile(optimizer='adam', loss='binary_crossentropy', metrics=['accuracy'])"
   ]
  },
  {
   "cell_type": "markdown",
   "metadata": {},
   "source": [
    "# Fit the model"
   ]
  },
  {
   "cell_type": "code",
   "execution_count": 50,
   "metadata": {
    "ExecuteTime": {
     "end_time": "2020-05-01T09:22:12.501924Z",
     "start_time": "2020-05-01T09:22:04.229648Z"
    }
   },
   "outputs": [
    {
     "name": "stdout",
     "output_type": "stream",
     "text": [
      "Train on 235 samples\n",
      "Epoch 1/150\n",
      "235/235 [==============================] - 1s 5ms/sample - loss: 2.4770 - accuracy: 0.2936\n",
      "Epoch 2/150\n",
      "235/235 [==============================] - 0s 231us/sample - loss: 1.3130 - accuracy: 0.3447\n",
      "Epoch 3/150\n",
      "235/235 [==============================] - 0s 149us/sample - loss: 0.9651 - accuracy: 0.4851\n",
      "Epoch 4/150\n",
      "235/235 [==============================] - 0s 190us/sample - loss: 0.8827 - accuracy: 0.6511\n",
      "Epoch 5/150\n",
      "235/235 [==============================] - 0s 241us/sample - loss: 0.7301 - accuracy: 0.7532\n",
      "Epoch 6/150\n",
      "235/235 [==============================] - 0s 114us/sample - loss: 0.6611 - accuracy: 0.7957\n",
      "Epoch 7/150\n",
      "235/235 [==============================] - 0s 208us/sample - loss: 0.6056 - accuracy: 0.8000\n",
      "Epoch 8/150\n",
      "235/235 [==============================] - 0s 168us/sample - loss: 0.5673 - accuracy: 0.8170\n",
      "Epoch 9/150\n",
      "235/235 [==============================] - 0s 132us/sample - loss: 0.5396 - accuracy: 0.8298\n",
      "Epoch 10/150\n",
      "235/235 [==============================] - 0s 148us/sample - loss: 0.5162 - accuracy: 0.8468\n",
      "Epoch 11/150\n",
      "235/235 [==============================] - 0s 188us/sample - loss: 0.4971 - accuracy: 0.8553\n",
      "Epoch 12/150\n",
      "235/235 [==============================] - 0s 145us/sample - loss: 0.4817 - accuracy: 0.8638\n",
      "Epoch 13/150\n",
      "235/235 [==============================] - 0s 142us/sample - loss: 0.4672 - accuracy: 0.8681\n",
      "Epoch 14/150\n",
      "235/235 [==============================] - 0s 141us/sample - loss: 0.4561 - accuracy: 0.8766\n",
      "Epoch 15/150\n",
      "235/235 [==============================] - 0s 171us/sample - loss: 0.4444 - accuracy: 0.8809\n",
      "Epoch 16/150\n",
      "235/235 [==============================] - 0s 175us/sample - loss: 0.4355 - accuracy: 0.8809\n",
      "Epoch 17/150\n",
      "235/235 [==============================] - 0s 162us/sample - loss: 0.4269 - accuracy: 0.8809\n",
      "Epoch 18/150\n",
      "235/235 [==============================] - 0s 211us/sample - loss: 0.4197 - accuracy: 0.8894\n",
      "Epoch 19/150\n",
      "235/235 [==============================] - 0s 416us/sample - loss: 0.4126 - accuracy: 0.8894\n",
      "Epoch 20/150\n",
      "235/235 [==============================] - 0s 249us/sample - loss: 0.4061 - accuracy: 0.8936\n",
      "Epoch 21/150\n",
      "235/235 [==============================] - 0s 171us/sample - loss: 0.4008 - accuracy: 0.9064\n",
      "Epoch 22/150\n",
      "235/235 [==============================] - 0s 177us/sample - loss: 0.3957 - accuracy: 0.9021\n",
      "Epoch 23/150\n",
      "235/235 [==============================] - 0s 164us/sample - loss: 0.3902 - accuracy: 0.9021\n",
      "Epoch 24/150\n",
      "235/235 [==============================] - 0s 236us/sample - loss: 0.3860 - accuracy: 0.9021\n",
      "Epoch 25/150\n",
      "235/235 [==============================] - 0s 228us/sample - loss: 0.3805 - accuracy: 0.9191\n",
      "Epoch 26/150\n",
      "235/235 [==============================] - 1s 3ms/sample - loss: 0.3765 - accuracy: 0.9191\n",
      "Epoch 27/150\n",
      "235/235 [==============================] - 0s 224us/sample - loss: 0.3725 - accuracy: 0.9191\n",
      "Epoch 28/150\n",
      "235/235 [==============================] - 0s 183us/sample - loss: 0.3692 - accuracy: 0.9191\n",
      "Epoch 29/150\n",
      "235/235 [==============================] - 0s 201us/sample - loss: 0.3654 - accuracy: 0.9191\n",
      "Epoch 30/150\n",
      "235/235 [==============================] - 0s 168us/sample - loss: 0.3616 - accuracy: 0.9191\n",
      "Epoch 31/150\n",
      "235/235 [==============================] - 0s 217us/sample - loss: 0.3585 - accuracy: 0.9191\n",
      "Epoch 32/150\n",
      "235/235 [==============================] - 0s 181us/sample - loss: 0.3556 - accuracy: 0.9149\n",
      "Epoch 33/150\n",
      "235/235 [==============================] - 0s 190us/sample - loss: 0.3528 - accuracy: 0.9191\n",
      "Epoch 34/150\n",
      "235/235 [==============================] - 0s 169us/sample - loss: 0.3497 - accuracy: 0.9191\n",
      "Epoch 35/150\n",
      "235/235 [==============================] - 0s 158us/sample - loss: 0.3463 - accuracy: 0.9234\n",
      "Epoch 36/150\n",
      "235/235 [==============================] - 0s 143us/sample - loss: 0.3438 - accuracy: 0.9234\n",
      "Epoch 37/150\n",
      "235/235 [==============================] - 0s 134us/sample - loss: 0.3407 - accuracy: 0.9277\n",
      "Epoch 38/150\n",
      "235/235 [==============================] - 0s 114us/sample - loss: 0.3385 - accuracy: 0.9319\n",
      "Epoch 39/150\n",
      "235/235 [==============================] - 0s 163us/sample - loss: 0.3356 - accuracy: 0.9277\n",
      "Epoch 40/150\n",
      "235/235 [==============================] - 0s 167us/sample - loss: 0.3333 - accuracy: 0.9362\n",
      "Epoch 41/150\n",
      "235/235 [==============================] - 0s 221us/sample - loss: 0.3307 - accuracy: 0.9362\n",
      "Epoch 42/150\n",
      "235/235 [==============================] - 0s 245us/sample - loss: 0.3286 - accuracy: 0.9404\n",
      "Epoch 43/150\n",
      "235/235 [==============================] - 0s 143us/sample - loss: 0.3267 - accuracy: 0.9362\n",
      "Epoch 44/150\n",
      "235/235 [==============================] - 0s 190us/sample - loss: 0.3245 - accuracy: 0.9404\n",
      "Epoch 45/150\n",
      "235/235 [==============================] - 0s 227us/sample - loss: 0.2705 - accuracy: 0.9404\n",
      "Epoch 46/150\n",
      "235/235 [==============================] - 0s 134us/sample - loss: 0.2651 - accuracy: 0.9319\n",
      "Epoch 47/150\n",
      "235/235 [==============================] - 0s 183us/sample - loss: 0.2624 - accuracy: 0.9362\n",
      "Epoch 48/150\n",
      "235/235 [==============================] - 0s 180us/sample - loss: 0.2561 - accuracy: 0.9404\n",
      "Epoch 49/150\n",
      "235/235 [==============================] - 0s 240us/sample - loss: 0.2542 - accuracy: 0.9362\n",
      "Epoch 50/150\n",
      "235/235 [==============================] - 0s 370us/sample - loss: 0.2531 - accuracy: 0.9404\n",
      "Epoch 51/150\n",
      "235/235 [==============================] - 0s 175us/sample - loss: 0.2503 - accuracy: 0.9447\n",
      "Epoch 52/150\n",
      "235/235 [==============================] - 0s 379us/sample - loss: 0.2491 - accuracy: 0.9489\n",
      "Epoch 53/150\n",
      "235/235 [==============================] - 0s 139us/sample - loss: 0.2464 - accuracy: 0.9532\n",
      "Epoch 54/150\n",
      "235/235 [==============================] - 0s 175us/sample - loss: 0.2446 - accuracy: 0.9532\n",
      "Epoch 55/150\n",
      "235/235 [==============================] - 0s 192us/sample - loss: 0.2424 - accuracy: 0.9532\n",
      "Epoch 56/150\n",
      "235/235 [==============================] - 0s 162us/sample - loss: 0.2409 - accuracy: 0.9532\n",
      "Epoch 57/150\n",
      "235/235 [==============================] - 0s 112us/sample - loss: 0.2392 - accuracy: 0.9532\n",
      "Epoch 58/150\n",
      "235/235 [==============================] - 0s 165us/sample - loss: 0.2376 - accuracy: 0.9532\n",
      "Epoch 59/150\n",
      "235/235 [==============================] - 0s 157us/sample - loss: 0.2359 - accuracy: 0.9574\n",
      "Epoch 60/150\n",
      "235/235 [==============================] - 0s 264us/sample - loss: 0.2345 - accuracy: 0.9617\n",
      "Epoch 61/150\n",
      "235/235 [==============================] - 0s 200us/sample - loss: 0.2332 - accuracy: 0.9617\n",
      "Epoch 62/150\n",
      "235/235 [==============================] - 0s 152us/sample - loss: 0.2319 - accuracy: 0.9574\n",
      "Epoch 63/150\n",
      "235/235 [==============================] - 0s 255us/sample - loss: 0.2311 - accuracy: 0.9574\n",
      "Epoch 64/150\n",
      "235/235 [==============================] - 0s 179us/sample - loss: 0.2302 - accuracy: 0.9574\n",
      "Epoch 65/150\n",
      "235/235 [==============================] - 0s 154us/sample - loss: 0.2282 - accuracy: 0.9617\n",
      "Epoch 66/150\n",
      "235/235 [==============================] - 0s 154us/sample - loss: 0.2275 - accuracy: 0.9617\n",
      "Epoch 67/150\n",
      "235/235 [==============================] - 0s 185us/sample - loss: 0.2264 - accuracy: 0.9617\n",
      "Epoch 68/150\n",
      "235/235 [==============================] - 0s 187us/sample - loss: 0.2251 - accuracy: 0.9617\n",
      "Epoch 69/150\n",
      "235/235 [==============================] - 0s 244us/sample - loss: 0.2242 - accuracy: 0.9617\n",
      "Epoch 70/150\n",
      "235/235 [==============================] - 0s 241us/sample - loss: 0.2230 - accuracy: 0.9617\n",
      "Epoch 71/150\n",
      "235/235 [==============================] - 0s 218us/sample - loss: 0.2216 - accuracy: 0.9617\n",
      "Epoch 72/150\n",
      "235/235 [==============================] - 0s 198us/sample - loss: 0.2208 - accuracy: 0.9617\n",
      "Epoch 73/150\n",
      "235/235 [==============================] - 0s 225us/sample - loss: 0.2195 - accuracy: 0.9617\n",
      "Epoch 74/150\n",
      "235/235 [==============================] - 0s 179us/sample - loss: 0.2184 - accuracy: 0.9617\n",
      "Epoch 75/150\n",
      "235/235 [==============================] - 0s 190us/sample - loss: 0.2170 - accuracy: 0.9617\n",
      "Epoch 76/150\n",
      "235/235 [==============================] - 0s 176us/sample - loss: 0.2161 - accuracy: 0.9617\n",
      "Epoch 77/150\n",
      "235/235 [==============================] - 0s 195us/sample - loss: 0.2156 - accuracy: 0.9617\n",
      "Epoch 78/150\n"
     ]
    },
    {
     "name": "stdout",
     "output_type": "stream",
     "text": [
      "235/235 [==============================] - 0s 170us/sample - loss: 0.2143 - accuracy: 0.9617\n",
      "Epoch 79/150\n",
      "235/235 [==============================] - 0s 148us/sample - loss: 0.2129 - accuracy: 0.9617\n",
      "Epoch 80/150\n",
      "235/235 [==============================] - 0s 104us/sample - loss: 0.2122 - accuracy: 0.9617\n",
      "Epoch 81/150\n",
      "235/235 [==============================] - 0s 99us/sample - loss: 0.2111 - accuracy: 0.9617\n",
      "Epoch 82/150\n",
      "235/235 [==============================] - 0s 112us/sample - loss: 0.2105 - accuracy: 0.9617\n",
      "Epoch 83/150\n",
      "235/235 [==============================] - 0s 104us/sample - loss: 0.2102 - accuracy: 0.9617\n",
      "Epoch 84/150\n",
      "235/235 [==============================] - 0s 110us/sample - loss: 0.2086 - accuracy: 0.9617\n",
      "Epoch 85/150\n",
      "235/235 [==============================] - 0s 127us/sample - loss: 0.2080 - accuracy: 0.9617\n",
      "Epoch 86/150\n",
      "235/235 [==============================] - 0s 324us/sample - loss: 0.2075 - accuracy: 0.9617\n",
      "Epoch 87/150\n",
      "235/235 [==============================] - 0s 243us/sample - loss: 0.2074 - accuracy: 0.9617\n",
      "Epoch 88/150\n",
      "235/235 [==============================] - 0s 115us/sample - loss: 0.2057 - accuracy: 0.9617\n",
      "Epoch 89/150\n",
      "235/235 [==============================] - 0s 105us/sample - loss: 0.2048 - accuracy: 0.9617\n",
      "Epoch 90/150\n",
      "235/235 [==============================] - 0s 135us/sample - loss: 0.2047 - accuracy: 0.9617\n",
      "Epoch 91/150\n",
      "235/235 [==============================] - 0s 115us/sample - loss: 0.2030 - accuracy: 0.9617\n",
      "Epoch 92/150\n",
      "235/235 [==============================] - 0s 104us/sample - loss: 0.2025 - accuracy: 0.9617\n",
      "Epoch 93/150\n",
      "235/235 [==============================] - 0s 127us/sample - loss: 0.2017 - accuracy: 0.9617\n",
      "Epoch 94/150\n",
      "235/235 [==============================] - 0s 119us/sample - loss: 0.2016 - accuracy: 0.9617\n",
      "Epoch 95/150\n",
      "235/235 [==============================] - 0s 144us/sample - loss: 0.2006 - accuracy: 0.9617\n",
      "Epoch 96/150\n",
      "235/235 [==============================] - 0s 156us/sample - loss: 0.1997 - accuracy: 0.9617\n",
      "Epoch 97/150\n",
      "235/235 [==============================] - 0s 213us/sample - loss: 0.1988 - accuracy: 0.9617\n",
      "Epoch 98/150\n",
      "235/235 [==============================] - 0s 121us/sample - loss: 0.1994 - accuracy: 0.9617\n",
      "Epoch 99/150\n",
      "235/235 [==============================] - 0s 169us/sample - loss: 0.1975 - accuracy: 0.9660\n",
      "Epoch 100/150\n",
      "235/235 [==============================] - 0s 119us/sample - loss: 0.1972 - accuracy: 0.9660\n",
      "Epoch 101/150\n",
      "235/235 [==============================] - 0s 126us/sample - loss: 0.1963 - accuracy: 0.9660\n",
      "Epoch 102/150\n",
      "235/235 [==============================] - 0s 139us/sample - loss: 0.1956 - accuracy: 0.9660\n",
      "Epoch 103/150\n",
      "235/235 [==============================] - 0s 204us/sample - loss: 0.1951 - accuracy: 0.9660\n",
      "Epoch 104/150\n",
      "235/235 [==============================] - 0s 202us/sample - loss: 0.1948 - accuracy: 0.9660\n",
      "Epoch 105/150\n",
      "235/235 [==============================] - 0s 148us/sample - loss: 0.1939 - accuracy: 0.9660\n",
      "Epoch 106/150\n",
      "235/235 [==============================] - 0s 421us/sample - loss: 0.1938 - accuracy: 0.9660\n",
      "Epoch 107/150\n",
      "235/235 [==============================] - 0s 249us/sample - loss: 0.1933 - accuracy: 0.9660\n",
      "Epoch 108/150\n",
      "235/235 [==============================] - 0s 219us/sample - loss: 0.1921 - accuracy: 0.9660\n",
      "Epoch 109/150\n",
      "235/235 [==============================] - 0s 149us/sample - loss: 0.1918 - accuracy: 0.9660\n",
      "Epoch 110/150\n",
      "235/235 [==============================] - 0s 227us/sample - loss: 0.1912 - accuracy: 0.9660\n",
      "Epoch 111/150\n",
      "235/235 [==============================] - 0s 185us/sample - loss: 0.1906 - accuracy: 0.9660\n",
      "Epoch 112/150\n",
      "235/235 [==============================] - 0s 289us/sample - loss: 0.1903 - accuracy: 0.9660\n",
      "Epoch 113/150\n",
      "235/235 [==============================] - 0s 220us/sample - loss: 0.1901 - accuracy: 0.9660\n",
      "Epoch 114/150\n",
      "235/235 [==============================] - 0s 180us/sample - loss: 0.1888 - accuracy: 0.9660\n",
      "Epoch 115/150\n",
      "235/235 [==============================] - 0s 174us/sample - loss: 0.1884 - accuracy: 0.9660\n",
      "Epoch 116/150\n",
      "235/235 [==============================] - 0s 188us/sample - loss: 0.1884 - accuracy: 0.9660\n",
      "Epoch 117/150\n",
      "235/235 [==============================] - 0s 181us/sample - loss: 0.1872 - accuracy: 0.9660\n",
      "Epoch 118/150\n",
      "235/235 [==============================] - 0s 247us/sample - loss: 0.1872 - accuracy: 0.9660\n",
      "Epoch 119/150\n",
      "235/235 [==============================] - 0s 166us/sample - loss: 0.1865 - accuracy: 0.9660\n",
      "Epoch 120/150\n",
      "235/235 [==============================] - 0s 135us/sample - loss: 0.1862 - accuracy: 0.9660\n",
      "Epoch 121/150\n",
      "235/235 [==============================] - 0s 190us/sample - loss: 0.1856 - accuracy: 0.9660\n",
      "Epoch 122/150\n",
      "235/235 [==============================] - 0s 195us/sample - loss: 0.1854 - accuracy: 0.9660\n",
      "Epoch 123/150\n",
      "235/235 [==============================] - 0s 150us/sample - loss: 0.1847 - accuracy: 0.9660\n",
      "Epoch 124/150\n",
      "235/235 [==============================] - 0s 205us/sample - loss: 0.1842 - accuracy: 0.9660\n",
      "Epoch 125/150\n",
      "235/235 [==============================] - 0s 137us/sample - loss: 0.1838 - accuracy: 0.9660\n",
      "Epoch 126/150\n",
      "235/235 [==============================] - 0s 224us/sample - loss: 0.1837 - accuracy: 0.9660\n",
      "Epoch 127/150\n",
      "235/235 [==============================] - 0s 207us/sample - loss: 0.1830 - accuracy: 0.9660\n",
      "Epoch 128/150\n",
      "235/235 [==============================] - 0s 155us/sample - loss: 0.1830 - accuracy: 0.9660\n",
      "Epoch 129/150\n",
      "235/235 [==============================] - 0s 185us/sample - loss: 0.1825 - accuracy: 0.9660\n",
      "Epoch 130/150\n",
      "235/235 [==============================] - 0s 215us/sample - loss: 0.1818 - accuracy: 0.9660\n",
      "Epoch 131/150\n",
      "235/235 [==============================] - 0s 111us/sample - loss: 0.1814 - accuracy: 0.9660\n",
      "Epoch 132/150\n",
      "235/235 [==============================] - 0s 119us/sample - loss: 0.1810 - accuracy: 0.9660\n",
      "Epoch 133/150\n",
      "235/235 [==============================] - 0s 112us/sample - loss: 0.1808 - accuracy: 0.9660\n",
      "Epoch 134/150\n",
      "235/235 [==============================] - 0s 149us/sample - loss: 0.1805 - accuracy: 0.9660\n",
      "Epoch 135/150\n",
      "235/235 [==============================] - 0s 149us/sample - loss: 0.1806 - accuracy: 0.9660\n",
      "Epoch 136/150\n",
      "235/235 [==============================] - 0s 215us/sample - loss: 0.1797 - accuracy: 0.9660\n",
      "Epoch 137/150\n",
      "235/235 [==============================] - 0s 150us/sample - loss: 0.1793 - accuracy: 0.9660\n",
      "Epoch 138/150\n",
      "235/235 [==============================] - 0s 139us/sample - loss: 0.1784 - accuracy: 0.9660\n",
      "Epoch 139/150\n",
      "235/235 [==============================] - 0s 147us/sample - loss: 0.1786 - accuracy: 0.9660\n",
      "Epoch 140/150\n",
      "235/235 [==============================] - 0s 130us/sample - loss: 0.1778 - accuracy: 0.9660\n",
      "Epoch 141/150\n",
      "235/235 [==============================] - 0s 95us/sample - loss: 0.1778 - accuracy: 0.9660\n",
      "Epoch 142/150\n",
      "235/235 [==============================] - 0s 183us/sample - loss: 0.1771 - accuracy: 0.9660\n",
      "Epoch 143/150\n",
      "235/235 [==============================] - 0s 191us/sample - loss: 0.1764 - accuracy: 0.9660\n",
      "Epoch 144/150\n",
      "235/235 [==============================] - 0s 133us/sample - loss: 0.1765 - accuracy: 0.9660\n",
      "Epoch 145/150\n",
      "235/235 [==============================] - 0s 189us/sample - loss: 0.1761 - accuracy: 0.9702\n",
      "Epoch 146/150\n",
      "235/235 [==============================] - 0s 416us/sample - loss: 0.1760 - accuracy: 0.9702\n",
      "Epoch 147/150\n",
      "235/235 [==============================] - 0s 206us/sample - loss: 0.1750 - accuracy: 0.9702\n",
      "Epoch 148/150\n",
      "235/235 [==============================] - 0s 173us/sample - loss: 0.1746 - accuracy: 0.9702\n",
      "Epoch 149/150\n",
      "235/235 [==============================] - 0s 159us/sample - loss: 0.1744 - accuracy: 0.9702\n",
      "Epoch 150/150\n",
      "235/235 [==============================] - 0s 143us/sample - loss: 0.1743 - accuracy: 0.9702\n"
     ]
    },
    {
     "data": {
      "text/plain": [
       "<tensorflow.python.keras.callbacks.History at 0x7ff5bc294e50>"
      ]
     },
     "execution_count": 50,
     "metadata": {},
     "output_type": "execute_result"
    }
   ],
   "source": [
    "model.fit(X_train_df, y_train_df, epochs=150, batch_size=32, verbose=1)"
   ]
  },
  {
   "cell_type": "markdown",
   "metadata": {},
   "source": [
    "# Evaluate the model"
   ]
  },
  {
   "cell_type": "code",
   "execution_count": 51,
   "metadata": {
    "ExecuteTime": {
     "end_time": "2020-05-01T09:22:49.530450Z",
     "start_time": "2020-05-01T09:22:49.377685Z"
    }
   },
   "outputs": [
    {
     "name": "stdout",
     "output_type": "stream",
     "text": [
      "\r",
      "116/1 [========================================================================================================================================================================================================================================================================================================================================================================================================================================================================================================================================================================================================================================================================================================================================================================================================================================================================================================================================================================================================================================================================================================================================================================================================================================================================================================================================================================================================================================================================================================================================================================================================================================================================================================================================================================================================================================================================================================================================================================================================================================================================================================================================================================================================================================================================================================================================================================================================================================================================================================================================================================================================================================================================================================================================================================================================================================================================================================================================================================================================================================================================================================================================================================================================================================================================================================================================================================================================================================================================================================================================================================================================================] - 0s 889us/sample - loss: 0.6584 - accuracy: 0.8534\n"
     ]
    }
   ],
   "source": [
    "loss, acc = model.evaluate(X_test_df, y_test_df, verbose=1)"
   ]
  },
  {
   "cell_type": "markdown",
   "metadata": {},
   "source": [
    "# make a prediction"
   ]
  },
  {
   "cell_type": "code",
   "execution_count": 52,
   "metadata": {
    "ExecuteTime": {
     "end_time": "2020-05-01T09:23:31.333461Z",
     "start_time": "2020-05-01T09:23:31.328849Z"
    }
   },
   "outputs": [],
   "source": [
    "X = [1,0,0.99539,-0.05889,0.85243,0.02306,0.83398,-0.37708,1,0.03760,0.85243,-0.17755,0.59755,-0.44945,0.60536,-0.38223,0.84356,-0.38542,0.58212,-0.32192,0.56971,-0.29674,0.36946,-0.47357,0.56811,-0.51171,0.41078,-0.46168,0.21266,-0.34090,0.42267,-0.54487,0.18641,-0.45300]"
   ]
  },
  {
   "cell_type": "code",
   "execution_count": 53,
   "metadata": {
    "ExecuteTime": {
     "end_time": "2020-05-01T09:23:51.113152Z",
     "start_time": "2020-05-01T09:23:51.015678Z"
    }
   },
   "outputs": [],
   "source": [
    "y = model.predict([X])"
   ]
  },
  {
   "cell_type": "code",
   "execution_count": 54,
   "metadata": {
    "ExecuteTime": {
     "end_time": "2020-05-01T09:23:55.979785Z",
     "start_time": "2020-05-01T09:23:55.973259Z"
    }
   },
   "outputs": [
    {
     "name": "stdout",
     "output_type": "stream",
     "text": [
      "[[1.0957787]]\n"
     ]
    }
   ],
   "source": [
    "print(y)"
   ]
  },
  {
   "cell_type": "code",
   "execution_count": null,
   "metadata": {},
   "outputs": [],
   "source": []
  }
 ],
 "metadata": {
  "kernelspec": {
   "display_name": "Python 3",
   "language": "python",
   "name": "python3"
  },
  "language_info": {
   "codemirror_mode": {
    "name": "ipython",
    "version": 3
   },
   "file_extension": ".py",
   "mimetype": "text/x-python",
   "name": "python",
   "nbconvert_exporter": "python",
   "pygments_lexer": "ipython3",
   "version": "3.7.6"
  },
  "toc": {
   "base_numbering": 1,
   "nav_menu": {},
   "number_sections": true,
   "sideBar": true,
   "skip_h1_title": false,
   "title_cell": "Table of Contents",
   "title_sidebar": "Contents",
   "toc_cell": true,
   "toc_position": {},
   "toc_section_display": true,
   "toc_window_display": true
  },
  "varInspector": {
   "cols": {
    "lenName": 16,
    "lenType": 16,
    "lenVar": 40
   },
   "kernels_config": {
    "python": {
     "delete_cmd_postfix": "",
     "delete_cmd_prefix": "del ",
     "library": "var_list.py",
     "varRefreshCmd": "print(var_dic_list())"
    },
    "r": {
     "delete_cmd_postfix": ") ",
     "delete_cmd_prefix": "rm(",
     "library": "var_list.r",
     "varRefreshCmd": "cat(var_dic_list()) "
    }
   },
   "types_to_exclude": [
    "module",
    "function",
    "builtin_function_or_method",
    "instance",
    "_Feature"
   ],
   "window_display": false
  }
 },
 "nbformat": 4,
 "nbformat_minor": 4
}
