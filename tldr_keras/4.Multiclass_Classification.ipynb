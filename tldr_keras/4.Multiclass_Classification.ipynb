{
 "cells": [
  {
   "cell_type": "markdown",
   "metadata": {
    "toc": true
   },
   "source": [
    "<h1>Table of Contents<span class=\"tocSkip\"></span></h1>\n",
    "<div class=\"toc\"><ul class=\"toc-item\"><li><span><a href=\"#Dataset\" data-toc-modified-id=\"Dataset-1\"><span class=\"toc-item-num\">1&nbsp;&nbsp;</span>Dataset</a></span></li><li><span><a href=\"#Model\" data-toc-modified-id=\"Model-2\"><span class=\"toc-item-num\">2&nbsp;&nbsp;</span>Model</a></span></li><li><span><a href=\"#Data-Preperation\" data-toc-modified-id=\"Data-Preperation-3\"><span class=\"toc-item-num\">3&nbsp;&nbsp;</span>Data Preperation</a></span></li><li><span><a href=\"#Define-Model\" data-toc-modified-id=\"Define-Model-4\"><span class=\"toc-item-num\">4&nbsp;&nbsp;</span>Define Model</a></span></li><li><span><a href=\"#Compile-the-model\" data-toc-modified-id=\"Compile-the-model-5\"><span class=\"toc-item-num\">5&nbsp;&nbsp;</span>Compile the model</a></span></li><li><span><a href=\"#Fit-the-model\" data-toc-modified-id=\"Fit-the-model-6\"><span class=\"toc-item-num\">6&nbsp;&nbsp;</span>Fit the model</a></span></li><li><span><a href=\"#Evluate-the-model\" data-toc-modified-id=\"Evluate-the-model-7\"><span class=\"toc-item-num\">7&nbsp;&nbsp;</span>Evluate the model</a></span></li><li><span><a href=\"#Make-A-prediction\" data-toc-modified-id=\"Make-A-prediction-8\"><span class=\"toc-item-num\">8&nbsp;&nbsp;</span>Make A prediction</a></span></li></ul></div>"
   ]
  },
  {
   "cell_type": "markdown",
   "metadata": {},
   "source": [
    "# Dataset\n",
    "\n",
    "We will use the iris dataset for this example. This problem involves predicting the species of iris flower given measures of the flower."
   ]
  },
  {
   "cell_type": "markdown",
   "metadata": {},
   "source": [
    "# Model\n",
    "\n",
    "Here we are going to use the ‘sparse_categorical_crossentropy‘ as our loss function, which is appropriate for integer encoded class labels.It will have 2 hidden layers. First hidden layer will have 10 nodes, second hidden layer will have 8 nodes. The output layer will have 3 nodes as there are 3 classes to classify."
   ]
  },
  {
   "cell_type": "markdown",
   "metadata": {},
   "source": [
    "# Data Preperation"
   ]
  },
  {
   "cell_type": "code",
   "execution_count": 1,
   "metadata": {
    "ExecuteTime": {
     "end_time": "2020-05-01T09:31:31.334829Z",
     "start_time": "2020-05-01T09:31:31.326245Z"
    }
   },
   "outputs": [],
   "source": [
    "from tensorflow.keras import Sequential\n",
    "from tensorflow.keras.layers import Dense\n",
    "from sklearn.model_selection import train_test_split\n",
    "from sklearn.preprocessing import LabelEncoder\n",
    "import pandas as pd\n",
    "import numpy as np"
   ]
  },
  {
   "cell_type": "code",
   "execution_count": 7,
   "metadata": {
    "ExecuteTime": {
     "end_time": "2020-05-01T09:57:56.349993Z",
     "start_time": "2020-05-01T09:57:56.316379Z"
    }
   },
   "outputs": [],
   "source": [
    "path='3rdparty/iris/iris.csv'\n",
    "data_df = pd.read_csv(path, header=None)"
   ]
  },
  {
   "cell_type": "code",
   "execution_count": 10,
   "metadata": {
    "ExecuteTime": {
     "end_time": "2020-05-01T09:58:44.268503Z",
     "start_time": "2020-05-01T09:58:44.265292Z"
    }
   },
   "outputs": [],
   "source": [
    "X_df, y_df= data_df.values[:, :-1], data_df.values[:,-1]"
   ]
  },
  {
   "cell_type": "code",
   "execution_count": 12,
   "metadata": {
    "ExecuteTime": {
     "end_time": "2020-05-01T09:59:03.880235Z",
     "start_time": "2020-05-01T09:59:03.875934Z"
    }
   },
   "outputs": [
    {
     "name": "stdout",
     "output_type": "stream",
     "text": [
      "(150, 4)\n",
      "(150,)\n"
     ]
    }
   ],
   "source": [
    "print(X_df.shape)\n",
    "print(y_df.shape)"
   ]
  },
  {
   "cell_type": "code",
   "execution_count": 14,
   "metadata": {
    "ExecuteTime": {
     "end_time": "2020-05-01T09:59:50.840765Z",
     "start_time": "2020-05-01T09:59:50.838010Z"
    }
   },
   "outputs": [],
   "source": [
    "X_df = X_df.astype('float32')\n",
    "y_df = LabelEncoder().fit_transform(y_df)"
   ]
  },
  {
   "cell_type": "code",
   "execution_count": 20,
   "metadata": {
    "ExecuteTime": {
     "end_time": "2020-05-01T10:04:20.180938Z",
     "start_time": "2020-05-01T10:04:20.176218Z"
    }
   },
   "outputs": [],
   "source": [
    "X_train_df, X_test_df, y_train_df, y_test_df = train_test_split(X_df, y_df, test_size=0.33)\n",
    "n_features = X_df.shape[1]"
   ]
  },
  {
   "cell_type": "code",
   "execution_count": 19,
   "metadata": {
    "ExecuteTime": {
     "end_time": "2020-05-01T10:03:33.348816Z",
     "start_time": "2020-05-01T10:03:33.343153Z"
    }
   },
   "outputs": [
    {
     "name": "stdout",
     "output_type": "stream",
     "text": [
      "(100, 4)\n",
      "(100,)\n",
      "(50, 4)\n",
      "(50,)\n"
     ]
    }
   ],
   "source": [
    "print(X_train_df.shape)\n",
    "print(y_train_df.shape)\n",
    "print(X_test_df.shape)\n",
    "print(y_test_df.shape)\n",
    "assert(X_train_df.shape[0] + X_test_df.shape[0] == X_df.shape[0])\n",
    "assert(y_train_df.shape[0] + y_test_df.shape[0] == y_df.shape[0])\n",
    "assert(X_train_df.shape[1] == X_df.shape[1])\n",
    "assert(X_test_df.shape[1] == X_df.shape[1])"
   ]
  },
  {
   "cell_type": "markdown",
   "metadata": {},
   "source": [
    "# Define Model"
   ]
  },
  {
   "cell_type": "code",
   "execution_count": 26,
   "metadata": {
    "ExecuteTime": {
     "end_time": "2020-05-01T10:08:35.312798Z",
     "start_time": "2020-05-01T10:08:35.258141Z"
    }
   },
   "outputs": [],
   "source": [
    "model = Sequential()\n",
    "model.add(Dense(10, activation='relu', kernel_initializer='he_normal', input_shape=(n_features, )))\n",
    "model.add(Dense(8, activation='relu', kernel_initializer='he_normal'))\n",
    "model.add(Dense(3, activation='softmax'))"
   ]
  },
  {
   "cell_type": "markdown",
   "metadata": {},
   "source": [
    "# Compile the model"
   ]
  },
  {
   "cell_type": "code",
   "execution_count": 27,
   "metadata": {
    "ExecuteTime": {
     "end_time": "2020-05-01T10:08:37.870308Z",
     "start_time": "2020-05-01T10:08:37.825608Z"
    }
   },
   "outputs": [],
   "source": [
    "model.compile(optimizer='adam', loss='sparse_categorical_crossentropy', metrics=['accuracy'])"
   ]
  },
  {
   "cell_type": "markdown",
   "metadata": {},
   "source": [
    "# Fit the model"
   ]
  },
  {
   "cell_type": "code",
   "execution_count": 28,
   "metadata": {
    "ExecuteTime": {
     "end_time": "2020-05-01T10:08:44.919616Z",
     "start_time": "2020-05-01T10:08:39.761537Z"
    }
   },
   "outputs": [
    {
     "name": "stdout",
     "output_type": "stream",
     "text": [
      "Train on 100 samples\n",
      "Epoch 1/150\n",
      "100/100 [==============================] - 0s 4ms/sample - loss: 0.6732 - accuracy: 0.6900\n",
      "Epoch 2/150\n",
      "100/100 [==============================] - 0s 204us/sample - loss: 0.6593 - accuracy: 0.6900\n",
      "Epoch 3/150\n",
      "100/100 [==============================] - 0s 182us/sample - loss: 0.6468 - accuracy: 0.6900\n",
      "Epoch 4/150\n",
      "100/100 [==============================] - 0s 245us/sample - loss: 0.6348 - accuracy: 0.6900\n",
      "Epoch 5/150\n",
      "100/100 [==============================] - 0s 280us/sample - loss: 0.6239 - accuracy: 0.6900\n",
      "Epoch 6/150\n",
      "100/100 [==============================] - 0s 203us/sample - loss: 0.6137 - accuracy: 0.6900\n",
      "Epoch 7/150\n",
      "100/100 [==============================] - 0s 253us/sample - loss: 0.6035 - accuracy: 0.6900\n",
      "Epoch 8/150\n",
      "100/100 [==============================] - 0s 240us/sample - loss: 0.5939 - accuracy: 0.6900\n",
      "Epoch 9/150\n",
      "100/100 [==============================] - 0s 230us/sample - loss: 0.5853 - accuracy: 0.6900\n",
      "Epoch 10/150\n",
      "100/100 [==============================] - 0s 183us/sample - loss: 0.5768 - accuracy: 0.6900\n",
      "Epoch 11/150\n",
      "100/100 [==============================] - 0s 193us/sample - loss: 0.5692 - accuracy: 0.6900\n",
      "Epoch 12/150\n",
      "100/100 [==============================] - 0s 177us/sample - loss: 0.5611 - accuracy: 0.6900\n",
      "Epoch 13/150\n",
      "100/100 [==============================] - 0s 182us/sample - loss: 0.5536 - accuracy: 0.6900\n",
      "Epoch 14/150\n",
      "100/100 [==============================] - 0s 182us/sample - loss: 0.5467 - accuracy: 0.6900\n",
      "Epoch 15/150\n",
      "100/100 [==============================] - 0s 299us/sample - loss: 0.5406 - accuracy: 0.6900\n",
      "Epoch 16/150\n",
      "100/100 [==============================] - 0s 257us/sample - loss: 0.5338 - accuracy: 0.6900\n",
      "Epoch 17/150\n",
      "100/100 [==============================] - 0s 282us/sample - loss: 0.5282 - accuracy: 0.6900\n",
      "Epoch 18/150\n",
      "100/100 [==============================] - 0s 415us/sample - loss: 0.5225 - accuracy: 0.6900\n",
      "Epoch 19/150\n",
      "100/100 [==============================] - 0s 274us/sample - loss: 0.5175 - accuracy: 0.6900\n",
      "Epoch 20/150\n",
      "100/100 [==============================] - 0s 217us/sample - loss: 0.5124 - accuracy: 0.6900\n",
      "Epoch 21/150\n",
      "100/100 [==============================] - 0s 234us/sample - loss: 0.5082 - accuracy: 0.6900\n",
      "Epoch 22/150\n",
      "100/100 [==============================] - 0s 351us/sample - loss: 0.5035 - accuracy: 0.6900\n",
      "Epoch 23/150\n",
      "100/100 [==============================] - 0s 621us/sample - loss: 0.4998 - accuracy: 0.6900\n",
      "Epoch 24/150\n",
      "100/100 [==============================] - 0s 154us/sample - loss: 0.4959 - accuracy: 0.6900\n",
      "Epoch 25/150\n",
      "100/100 [==============================] - 0s 525us/sample - loss: 0.4923 - accuracy: 0.6900\n",
      "Epoch 26/150\n",
      "100/100 [==============================] - 0s 279us/sample - loss: 0.4884 - accuracy: 0.6900\n",
      "Epoch 27/150\n",
      "100/100 [==============================] - 0s 233us/sample - loss: 0.4848 - accuracy: 0.6900\n",
      "Epoch 28/150\n",
      "100/100 [==============================] - 0s 291us/sample - loss: 0.4816 - accuracy: 0.6900\n",
      "Epoch 29/150\n",
      "100/100 [==============================] - 0s 263us/sample - loss: 0.4783 - accuracy: 0.6900\n",
      "Epoch 30/150\n",
      "100/100 [==============================] - 0s 434us/sample - loss: 0.4750 - accuracy: 0.6900\n",
      "Epoch 31/150\n",
      "100/100 [==============================] - 0s 517us/sample - loss: 0.4724 - accuracy: 0.6900\n",
      "Epoch 32/150\n",
      "100/100 [==============================] - 0s 322us/sample - loss: 0.4693 - accuracy: 0.6900\n",
      "Epoch 33/150\n",
      "100/100 [==============================] - 0s 205us/sample - loss: 0.4666 - accuracy: 0.6900\n",
      "Epoch 34/150\n",
      "100/100 [==============================] - 0s 284us/sample - loss: 0.4638 - accuracy: 0.6900\n",
      "Epoch 35/150\n",
      "100/100 [==============================] - 0s 318us/sample - loss: 0.4618 - accuracy: 0.6900\n",
      "Epoch 36/150\n",
      "100/100 [==============================] - 0s 237us/sample - loss: 0.4596 - accuracy: 0.6900\n",
      "Epoch 37/150\n",
      "100/100 [==============================] - 0s 314us/sample - loss: 0.4575 - accuracy: 0.6900\n",
      "Epoch 38/150\n",
      "100/100 [==============================] - 0s 314us/sample - loss: 0.4554 - accuracy: 0.6900\n",
      "Epoch 39/150\n",
      "100/100 [==============================] - 0s 383us/sample - loss: 0.4532 - accuracy: 0.6900\n",
      "Epoch 40/150\n",
      "100/100 [==============================] - 0s 604us/sample - loss: 0.4513 - accuracy: 0.6900\n",
      "Epoch 41/150\n",
      "100/100 [==============================] - 0s 306us/sample - loss: 0.4499 - accuracy: 0.6900\n",
      "Epoch 42/150\n",
      "100/100 [==============================] - 0s 384us/sample - loss: 0.4474 - accuracy: 0.6900\n",
      "Epoch 43/150\n",
      "100/100 [==============================] - 0s 446us/sample - loss: 0.4448 - accuracy: 0.6900\n",
      "Epoch 44/150\n",
      "100/100 [==============================] - 0s 183us/sample - loss: 0.4430 - accuracy: 0.6900\n",
      "Epoch 45/150\n",
      "100/100 [==============================] - 0s 331us/sample - loss: 0.4403 - accuracy: 0.6900\n",
      "Epoch 46/150\n",
      "100/100 [==============================] - 0s 336us/sample - loss: 0.4383 - accuracy: 0.6900\n",
      "Epoch 47/150\n",
      "100/100 [==============================] - 0s 436us/sample - loss: 0.4366 - accuracy: 0.6900\n",
      "Epoch 48/150\n",
      "100/100 [==============================] - 0s 191us/sample - loss: 0.4352 - accuracy: 0.6900\n",
      "Epoch 49/150\n",
      "100/100 [==============================] - 0s 500us/sample - loss: 0.4336 - accuracy: 0.7000\n",
      "Epoch 50/150\n",
      "100/100 [==============================] - 0s 440us/sample - loss: 0.4324 - accuracy: 0.7000\n",
      "Epoch 51/150\n",
      "100/100 [==============================] - 0s 431us/sample - loss: 0.4311 - accuracy: 0.7000\n",
      "Epoch 52/150\n",
      "100/100 [==============================] - 0s 354us/sample - loss: 0.4295 - accuracy: 0.7000\n",
      "Epoch 53/150\n",
      "100/100 [==============================] - 0s 217us/sample - loss: 0.4268 - accuracy: 0.7000\n",
      "Epoch 54/150\n",
      "100/100 [==============================] - 0s 163us/sample - loss: 0.4248 - accuracy: 0.7000\n",
      "Epoch 55/150\n",
      "100/100 [==============================] - 0s 375us/sample - loss: 0.4232 - accuracy: 0.7000\n",
      "Epoch 56/150\n",
      "100/100 [==============================] - 0s 417us/sample - loss: 0.4220 - accuracy: 0.7000\n",
      "Epoch 57/150\n",
      "100/100 [==============================] - 0s 304us/sample - loss: 0.4203 - accuracy: 0.7000\n",
      "Epoch 58/150\n",
      "100/100 [==============================] - 0s 229us/sample - loss: 0.4189 - accuracy: 0.7000\n",
      "Epoch 59/150\n",
      "100/100 [==============================] - 0s 211us/sample - loss: 0.4173 - accuracy: 0.7000\n",
      "Epoch 60/150\n",
      "100/100 [==============================] - 0s 313us/sample - loss: 0.4161 - accuracy: 0.7100\n",
      "Epoch 61/150\n",
      "100/100 [==============================] - 0s 303us/sample - loss: 0.4158 - accuracy: 0.7300\n",
      "Epoch 62/150\n",
      "100/100 [==============================] - 0s 199us/sample - loss: 0.4143 - accuracy: 0.7400\n",
      "Epoch 63/150\n",
      "100/100 [==============================] - 0s 182us/sample - loss: 0.4121 - accuracy: 0.7400\n",
      "Epoch 64/150\n",
      "100/100 [==============================] - 0s 148us/sample - loss: 0.4102 - accuracy: 0.7300\n",
      "Epoch 65/150\n",
      "100/100 [==============================] - 0s 243us/sample - loss: 0.4082 - accuracy: 0.7200\n",
      "Epoch 66/150\n",
      "100/100 [==============================] - 0s 288us/sample - loss: 0.4076 - accuracy: 0.7100\n",
      "Epoch 67/150\n",
      "100/100 [==============================] - 0s 304us/sample - loss: 0.4063 - accuracy: 0.7200\n",
      "Epoch 68/150\n",
      "100/100 [==============================] - 0s 127us/sample - loss: 0.4047 - accuracy: 0.7200\n",
      "Epoch 69/150\n",
      "100/100 [==============================] - 0s 274us/sample - loss: 0.4027 - accuracy: 0.7200\n",
      "Epoch 70/150\n",
      "100/100 [==============================] - 0s 410us/sample - loss: 0.4017 - accuracy: 0.7600\n",
      "Epoch 71/150\n",
      "100/100 [==============================] - 0s 214us/sample - loss: 0.4008 - accuracy: 0.7600\n",
      "Epoch 72/150\n",
      "100/100 [==============================] - 0s 818us/sample - loss: 0.3995 - accuracy: 0.7600\n",
      "Epoch 73/150\n",
      "100/100 [==============================] - 0s 473us/sample - loss: 0.3981 - accuracy: 0.7800\n",
      "Epoch 74/150\n",
      "100/100 [==============================] - 0s 407us/sample - loss: 0.3970 - accuracy: 0.7900\n",
      "Epoch 75/150\n",
      "100/100 [==============================] - 0s 525us/sample - loss: 0.3953 - accuracy: 0.7900\n",
      "Epoch 76/150\n",
      "100/100 [==============================] - 0s 170us/sample - loss: 0.3933 - accuracy: 0.7900\n",
      "Epoch 77/150\n",
      "100/100 [==============================] - 0s 328us/sample - loss: 0.3913 - accuracy: 0.8100\n",
      "Epoch 78/150\n",
      "100/100 [==============================] - 0s 399us/sample - loss: 0.3892 - accuracy: 0.8300\n",
      "Epoch 79/150\n",
      "100/100 [==============================] - 0s 181us/sample - loss: 0.3870 - accuracy: 0.8400\n",
      "Epoch 80/150\n",
      "100/100 [==============================] - 0s 217us/sample - loss: 0.3858 - accuracy: 0.8000\n",
      "Epoch 81/150\n",
      "100/100 [==============================] - 0s 146us/sample - loss: 0.3841 - accuracy: 0.7900\n",
      "Epoch 82/150\n",
      "100/100 [==============================] - 0s 260us/sample - loss: 0.3809 - accuracy: 0.8100\n",
      "Epoch 83/150\n",
      "100/100 [==============================] - 0s 252us/sample - loss: 0.3792 - accuracy: 0.8500\n",
      "Epoch 84/150\n",
      "100/100 [==============================] - 0s 202us/sample - loss: 0.3774 - accuracy: 0.8800\n",
      "Epoch 85/150\n",
      "100/100 [==============================] - 0s 203us/sample - loss: 0.3758 - accuracy: 0.8800\n",
      "Epoch 86/150\n",
      "100/100 [==============================] - 0s 238us/sample - loss: 0.3742 - accuracy: 0.8600\n",
      "Epoch 87/150\n",
      "100/100 [==============================] - 0s 341us/sample - loss: 0.3726 - accuracy: 0.8400\n",
      "Epoch 88/150\n",
      "100/100 [==============================] - 0s 330us/sample - loss: 0.3706 - accuracy: 0.8400\n",
      "Epoch 89/150\n",
      "100/100 [==============================] - 0s 152us/sample - loss: 0.3692 - accuracy: 0.8400\n",
      "Epoch 90/150\n",
      "100/100 [==============================] - 0s 250us/sample - loss: 0.3673 - accuracy: 0.8500\n",
      "Epoch 91/150\n",
      "100/100 [==============================] - 0s 214us/sample - loss: 0.3654 - accuracy: 0.8900\n",
      "Epoch 92/150\n",
      "100/100 [==============================] - 0s 340us/sample - loss: 0.3636 - accuracy: 0.8900\n",
      "Epoch 93/150\n",
      "100/100 [==============================] - 0s 352us/sample - loss: 0.3622 - accuracy: 0.8800\n",
      "Epoch 94/150\n",
      "100/100 [==============================] - 0s 179us/sample - loss: 0.3607 - accuracy: 0.8300\n",
      "Epoch 95/150\n",
      "100/100 [==============================] - 0s 210us/sample - loss: 0.3588 - accuracy: 0.8400\n",
      "Epoch 96/150\n",
      "100/100 [==============================] - 0s 150us/sample - loss: 0.3570 - accuracy: 0.9000\n",
      "Epoch 97/150\n",
      "100/100 [==============================] - 0s 281us/sample - loss: 0.3558 - accuracy: 0.9300\n",
      "Epoch 98/150\n",
      "100/100 [==============================] - 0s 265us/sample - loss: 0.3539 - accuracy: 0.9200\n",
      "Epoch 99/150\n",
      "100/100 [==============================] - 0s 183us/sample - loss: 0.3517 - accuracy: 0.9300\n",
      "Epoch 100/150\n",
      "100/100 [==============================] - 0s 217us/sample - loss: 0.3511 - accuracy: 0.9000\n",
      "Epoch 101/150\n",
      "100/100 [==============================] - 0s 314us/sample - loss: 0.3484 - accuracy: 0.9200\n",
      "Epoch 102/150\n",
      "100/100 [==============================] - 0s 218us/sample - loss: 0.3471 - accuracy: 0.9300\n",
      "Epoch 103/150\n",
      "100/100 [==============================] - 0s 218us/sample - loss: 0.3493 - accuracy: 0.9100\n",
      "Epoch 104/150\n",
      "100/100 [==============================] - 0s 522us/sample - loss: 0.3472 - accuracy: 0.9100\n",
      "Epoch 105/150\n",
      "100/100 [==============================] - 0s 306us/sample - loss: 0.3453 - accuracy: 0.9000\n",
      "Epoch 106/150\n",
      "100/100 [==============================] - 0s 165us/sample - loss: 0.3432 - accuracy: 0.9000\n",
      "Epoch 107/150\n",
      "100/100 [==============================] - 0s 137us/sample - loss: 0.3421 - accuracy: 0.9100\n",
      "Epoch 108/150\n",
      "100/100 [==============================] - 0s 217us/sample - loss: 0.3391 - accuracy: 0.9200\n",
      "Epoch 109/150\n",
      "100/100 [==============================] - 0s 126us/sample - loss: 0.3383 - accuracy: 0.9100\n",
      "Epoch 110/150\n",
      "100/100 [==============================] - 0s 202us/sample - loss: 0.3356 - accuracy: 0.9200\n",
      "Epoch 111/150\n",
      "100/100 [==============================] - 0s 437us/sample - loss: 0.3338 - accuracy: 0.9200\n",
      "Epoch 112/150\n",
      "100/100 [==============================] - 0s 295us/sample - loss: 0.3327 - accuracy: 0.9200\n",
      "Epoch 113/150\n",
      "100/100 [==============================] - 0s 577us/sample - loss: 0.3306 - accuracy: 0.9300\n",
      "Epoch 114/150\n",
      "100/100 [==============================] - 0s 285us/sample - loss: 0.3290 - accuracy: 0.9300\n",
      "Epoch 115/150\n",
      "100/100 [==============================] - 0s 356us/sample - loss: 0.3280 - accuracy: 0.9200\n",
      "Epoch 116/150\n",
      "100/100 [==============================] - 0s 553us/sample - loss: 0.3270 - accuracy: 0.9100\n",
      "Epoch 117/150\n",
      "100/100 [==============================] - 0s 406us/sample - loss: 0.3249 - accuracy: 0.9200\n",
      "Epoch 118/150\n",
      "100/100 [==============================] - 0s 193us/sample - loss: 0.3234 - accuracy: 0.9300\n",
      "Epoch 119/150\n",
      "100/100 [==============================] - 0s 221us/sample - loss: 0.3213 - accuracy: 0.9200\n",
      "Epoch 120/150\n",
      "100/100 [==============================] - 0s 308us/sample - loss: 0.3203 - accuracy: 0.9200\n",
      "Epoch 121/150\n",
      "100/100 [==============================] - 0s 235us/sample - loss: 0.3183 - accuracy: 0.9200\n",
      "Epoch 122/150\n",
      "100/100 [==============================] - 0s 277us/sample - loss: 0.3173 - accuracy: 0.9200\n",
      "Epoch 123/150\n",
      "100/100 [==============================] - 0s 245us/sample - loss: 0.3151 - accuracy: 0.9300\n",
      "Epoch 124/150\n",
      "100/100 [==============================] - 0s 217us/sample - loss: 0.3136 - accuracy: 0.9200\n",
      "Epoch 125/150\n",
      "100/100 [==============================] - 0s 268us/sample - loss: 0.3118 - accuracy: 0.9300\n",
      "Epoch 126/150\n",
      "100/100 [==============================] - 0s 264us/sample - loss: 0.3107 - accuracy: 0.9300\n",
      "Epoch 127/150\n",
      "100/100 [==============================] - 0s 555us/sample - loss: 0.3094 - accuracy: 0.9400\n",
      "Epoch 128/150\n",
      "100/100 [==============================] - 0s 643us/sample - loss: 0.3083 - accuracy: 0.9400\n",
      "Epoch 129/150\n",
      "100/100 [==============================] - 0s 566us/sample - loss: 0.3065 - accuracy: 0.9400\n",
      "Epoch 130/150\n",
      "100/100 [==============================] - 0s 258us/sample - loss: 0.3047 - accuracy: 0.9300\n",
      "Epoch 131/150\n",
      "100/100 [==============================] - 0s 332us/sample - loss: 0.3035 - accuracy: 0.9300\n",
      "Epoch 132/150\n",
      "100/100 [==============================] - 0s 261us/sample - loss: 0.3019 - accuracy: 0.9400\n",
      "Epoch 133/150\n",
      "100/100 [==============================] - 0s 225us/sample - loss: 0.3004 - accuracy: 0.9400\n",
      "Epoch 134/150\n",
      "100/100 [==============================] - 0s 249us/sample - loss: 0.2990 - accuracy: 0.9400\n",
      "Epoch 135/150\n",
      "100/100 [==============================] - 0s 267us/sample - loss: 0.2982 - accuracy: 0.9400\n",
      "Epoch 136/150\n",
      "100/100 [==============================] - 0s 345us/sample - loss: 0.2964 - accuracy: 0.9300\n",
      "Epoch 137/150\n",
      "100/100 [==============================] - 0s 135us/sample - loss: 0.2943 - accuracy: 0.9300\n",
      "Epoch 138/150\n",
      "100/100 [==============================] - 0s 243us/sample - loss: 0.2928 - accuracy: 0.9300\n",
      "Epoch 139/150\n",
      "100/100 [==============================] - 0s 239us/sample - loss: 0.2924 - accuracy: 0.9300\n",
      "Epoch 140/150\n",
      "100/100 [==============================] - 0s 661us/sample - loss: 0.2906 - accuracy: 0.9300\n",
      "Epoch 141/150\n",
      "100/100 [==============================] - 0s 379us/sample - loss: 0.2893 - accuracy: 0.9200\n",
      "Epoch 142/150\n",
      "100/100 [==============================] - 0s 421us/sample - loss: 0.2874 - accuracy: 0.9200\n",
      "Epoch 143/150\n",
      "100/100 [==============================] - 0s 309us/sample - loss: 0.2860 - accuracy: 0.9300\n",
      "Epoch 144/150\n",
      "100/100 [==============================] - 0s 368us/sample - loss: 0.2848 - accuracy: 0.9400\n",
      "Epoch 145/150\n",
      "100/100 [==============================] - 0s 218us/sample - loss: 0.2839 - accuracy: 0.9400\n",
      "Epoch 146/150\n",
      "100/100 [==============================] - 0s 274us/sample - loss: 0.2849 - accuracy: 0.9300\n",
      "Epoch 147/150\n",
      "100/100 [==============================] - 0s 252us/sample - loss: 0.2834 - accuracy: 0.9500\n",
      "Epoch 148/150\n",
      "100/100 [==============================] - 0s 351us/sample - loss: 0.2784 - accuracy: 0.9400\n",
      "Epoch 149/150\n",
      "100/100 [==============================] - 0s 320us/sample - loss: 0.2773 - accuracy: 0.9300\n",
      "Epoch 150/150\n",
      "100/100 [==============================] - 0s 519us/sample - loss: 0.2781 - accuracy: 0.9200\n"
     ]
    },
    {
     "data": {
      "text/plain": [
       "<tensorflow.python.keras.callbacks.History at 0x7f2bfc6ccb50>"
      ]
     },
     "execution_count": 28,
     "metadata": {},
     "output_type": "execute_result"
    }
   ],
   "source": [
    "model.fit(X_train_df, y_train_df, epochs=150, batch_size=32, verbose=1)"
   ]
  },
  {
   "cell_type": "markdown",
   "metadata": {},
   "source": [
    "# Evluate the model"
   ]
  },
  {
   "cell_type": "code",
   "execution_count": 29,
   "metadata": {
    "ExecuteTime": {
     "end_time": "2020-05-01T10:08:47.770925Z",
     "start_time": "2020-05-01T10:08:47.618917Z"
    }
   },
   "outputs": [
    {
     "name": "stdout",
     "output_type": "stream",
     "text": [
      "\r",
      "50/1 [============================================================================================================================================================================================================================================================================================================================================================================================================================================================================================================================================================================================================================================================================================================================================================================================================================================================================================================================================================================================================================================================================================================================================================================================================================================================================================================================================================================================================================================================================================================================================================] - 0s 2ms/sample - loss: 0.3473 - accuracy: 0.9400\n"
     ]
    }
   ],
   "source": [
    "loss, acc = model.evaluate(X_test_df, y_test_df, verbose = 1)"
   ]
  },
  {
   "cell_type": "markdown",
   "metadata": {},
   "source": [
    "# Make A prediction"
   ]
  },
  {
   "cell_type": "code",
   "execution_count": null,
   "metadata": {},
   "outputs": [],
   "source": [
    "X = [5.1,3.5,1.4,0.2]\n"
   ]
  }
 ],
 "metadata": {
  "kernelspec": {
   "display_name": "Python 3",
   "language": "python",
   "name": "python3"
  },
  "language_info": {
   "codemirror_mode": {
    "name": "ipython",
    "version": 3
   },
   "file_extension": ".py",
   "mimetype": "text/x-python",
   "name": "python",
   "nbconvert_exporter": "python",
   "pygments_lexer": "ipython3",
   "version": "3.7.6"
  },
  "toc": {
   "base_numbering": 1,
   "nav_menu": {},
   "number_sections": true,
   "sideBar": true,
   "skip_h1_title": false,
   "title_cell": "Table of Contents",
   "title_sidebar": "Contents",
   "toc_cell": true,
   "toc_position": {},
   "toc_section_display": true,
   "toc_window_display": true
  },
  "varInspector": {
   "cols": {
    "lenName": 16,
    "lenType": 16,
    "lenVar": 40
   },
   "kernels_config": {
    "python": {
     "delete_cmd_postfix": "",
     "delete_cmd_prefix": "del ",
     "library": "var_list.py",
     "varRefreshCmd": "print(var_dic_list())"
    },
    "r": {
     "delete_cmd_postfix": ") ",
     "delete_cmd_prefix": "rm(",
     "library": "var_list.r",
     "varRefreshCmd": "cat(var_dic_list()) "
    }
   },
   "types_to_exclude": [
    "module",
    "function",
    "builtin_function_or_method",
    "instance",
    "_Feature"
   ],
   "window_display": false
  }
 },
 "nbformat": 4,
 "nbformat_minor": 4
}
