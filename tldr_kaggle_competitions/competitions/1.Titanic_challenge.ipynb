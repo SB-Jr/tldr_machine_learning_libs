{
 "cells": [
  {
   "cell_type": "markdown",
   "metadata": {
    "toc": true
   },
   "source": [
    "<h1>Table of Contents<span class=\"tocSkip\"></span></h1>\n",
    "<div class=\"toc\"><ul class=\"toc-item\"><li><span><a href=\"#Titanic-Challenge\" data-toc-modified-id=\"Titanic-Challenge-1\"><span class=\"toc-item-num\">1&nbsp;&nbsp;</span>Titanic Challenge</a></span></li><li><span><a href=\"#Data-preprocessing\" data-toc-modified-id=\"Data-preprocessing-2\"><span class=\"toc-item-num\">2&nbsp;&nbsp;</span>Data preprocessing</a></span><ul class=\"toc-item\"><li><span><a href=\"#Finding-missing-data\" data-toc-modified-id=\"Finding-missing-data-2.1\"><span class=\"toc-item-num\">2.1&nbsp;&nbsp;</span>Finding missing data</a></span></li><li><span><a href=\"#Finding-categorical-columns\" data-toc-modified-id=\"Finding-categorical-columns-2.2\"><span class=\"toc-item-num\">2.2&nbsp;&nbsp;</span>Finding categorical columns</a></span></li></ul></li><li><span><a href=\"#Data-Visualization\" data-toc-modified-id=\"Data-Visualization-3\"><span class=\"toc-item-num\">3&nbsp;&nbsp;</span>Data Visualization</a></span></li><li><span><a href=\"#Model-creation\" data-toc-modified-id=\"Model-creation-4\"><span class=\"toc-item-num\">4&nbsp;&nbsp;</span>Model creation</a></span><ul class=\"toc-item\"><li><span><a href=\"#Linear-model\" data-toc-modified-id=\"Linear-model-4.1\"><span class=\"toc-item-num\">4.1&nbsp;&nbsp;</span>Linear model</a></span></li><li><span><a href=\"#Deep-model\" data-toc-modified-id=\"Deep-model-4.2\"><span class=\"toc-item-num\">4.2&nbsp;&nbsp;</span>Deep model</a></span></li></ul></li><li><span><a href=\"#Test-Data\" data-toc-modified-id=\"Test-Data-5\"><span class=\"toc-item-num\">5&nbsp;&nbsp;</span>Test Data</a></span><ul class=\"toc-item\"><li><span><a href=\"#Test-Data-preprocessing\" data-toc-modified-id=\"Test-Data-preprocessing-5.1\"><span class=\"toc-item-num\">5.1&nbsp;&nbsp;</span>Test Data preprocessing</a></span></li></ul></li></ul></div>"
   ]
  },
  {
   "cell_type": "markdown",
   "metadata": {},
   "source": [
    "# Titanic Challenge\n",
    "\n",
    "<a href='https://www.kaggle.com/c/titanic'>Kaggle challenge link</a>\n",
    "<br><br>\n",
    "\n",
    "The competition is simple: use machine learning to create a model that predicts which passengers survived the Titanic shipwreck."
   ]
  },
  {
   "cell_type": "code",
   "execution_count": 1,
   "metadata": {
    "ExecuteTime": {
     "end_time": "2020-05-17T08:40:18.399328Z",
     "start_time": "2020-05-17T08:40:17.559198Z"
    }
   },
   "outputs": [],
   "source": [
    "import pandas as pd\n",
    "import seaborn as sns\n",
    "import matplotlib.pyplot as plt"
   ]
  },
  {
   "cell_type": "code",
   "execution_count": 2,
   "metadata": {
    "ExecuteTime": {
     "end_time": "2020-05-17T08:40:18.924113Z",
     "start_time": "2020-05-17T08:40:18.915636Z"
    }
   },
   "outputs": [],
   "source": [
    "data_path = '../data/titanic_data/train.csv'\n",
    "\n",
    "data = pd.read_csv(data_path)"
   ]
  },
  {
   "cell_type": "code",
   "execution_count": 3,
   "metadata": {
    "ExecuteTime": {
     "end_time": "2020-05-17T08:40:20.626599Z",
     "start_time": "2020-05-17T08:40:20.595580Z"
    }
   },
   "outputs": [
    {
     "data": {
      "text/html": [
       "<div>\n",
       "<style scoped>\n",
       "    .dataframe tbody tr th:only-of-type {\n",
       "        vertical-align: middle;\n",
       "    }\n",
       "\n",
       "    .dataframe tbody tr th {\n",
       "        vertical-align: top;\n",
       "    }\n",
       "\n",
       "    .dataframe thead th {\n",
       "        text-align: right;\n",
       "    }\n",
       "</style>\n",
       "<table border=\"1\" class=\"dataframe\">\n",
       "  <thead>\n",
       "    <tr style=\"text-align: right;\">\n",
       "      <th></th>\n",
       "      <th>PassengerId</th>\n",
       "      <th>Survived</th>\n",
       "      <th>Pclass</th>\n",
       "      <th>Age</th>\n",
       "      <th>SibSp</th>\n",
       "      <th>Parch</th>\n",
       "      <th>Fare</th>\n",
       "    </tr>\n",
       "  </thead>\n",
       "  <tbody>\n",
       "    <tr>\n",
       "      <th>count</th>\n",
       "      <td>891.000000</td>\n",
       "      <td>891.000000</td>\n",
       "      <td>891.000000</td>\n",
       "      <td>714.000000</td>\n",
       "      <td>891.000000</td>\n",
       "      <td>891.000000</td>\n",
       "      <td>891.000000</td>\n",
       "    </tr>\n",
       "    <tr>\n",
       "      <th>mean</th>\n",
       "      <td>446.000000</td>\n",
       "      <td>0.383838</td>\n",
       "      <td>2.308642</td>\n",
       "      <td>29.699118</td>\n",
       "      <td>0.523008</td>\n",
       "      <td>0.381594</td>\n",
       "      <td>32.204208</td>\n",
       "    </tr>\n",
       "    <tr>\n",
       "      <th>std</th>\n",
       "      <td>257.353842</td>\n",
       "      <td>0.486592</td>\n",
       "      <td>0.836071</td>\n",
       "      <td>14.526497</td>\n",
       "      <td>1.102743</td>\n",
       "      <td>0.806057</td>\n",
       "      <td>49.693429</td>\n",
       "    </tr>\n",
       "    <tr>\n",
       "      <th>min</th>\n",
       "      <td>1.000000</td>\n",
       "      <td>0.000000</td>\n",
       "      <td>1.000000</td>\n",
       "      <td>0.420000</td>\n",
       "      <td>0.000000</td>\n",
       "      <td>0.000000</td>\n",
       "      <td>0.000000</td>\n",
       "    </tr>\n",
       "    <tr>\n",
       "      <th>25%</th>\n",
       "      <td>223.500000</td>\n",
       "      <td>0.000000</td>\n",
       "      <td>2.000000</td>\n",
       "      <td>20.125000</td>\n",
       "      <td>0.000000</td>\n",
       "      <td>0.000000</td>\n",
       "      <td>7.910400</td>\n",
       "    </tr>\n",
       "    <tr>\n",
       "      <th>50%</th>\n",
       "      <td>446.000000</td>\n",
       "      <td>0.000000</td>\n",
       "      <td>3.000000</td>\n",
       "      <td>28.000000</td>\n",
       "      <td>0.000000</td>\n",
       "      <td>0.000000</td>\n",
       "      <td>14.454200</td>\n",
       "    </tr>\n",
       "    <tr>\n",
       "      <th>75%</th>\n",
       "      <td>668.500000</td>\n",
       "      <td>1.000000</td>\n",
       "      <td>3.000000</td>\n",
       "      <td>38.000000</td>\n",
       "      <td>1.000000</td>\n",
       "      <td>0.000000</td>\n",
       "      <td>31.000000</td>\n",
       "    </tr>\n",
       "    <tr>\n",
       "      <th>max</th>\n",
       "      <td>891.000000</td>\n",
       "      <td>1.000000</td>\n",
       "      <td>3.000000</td>\n",
       "      <td>80.000000</td>\n",
       "      <td>8.000000</td>\n",
       "      <td>6.000000</td>\n",
       "      <td>512.329200</td>\n",
       "    </tr>\n",
       "  </tbody>\n",
       "</table>\n",
       "</div>"
      ],
      "text/plain": [
       "       PassengerId    Survived      Pclass         Age       SibSp  \\\n",
       "count   891.000000  891.000000  891.000000  714.000000  891.000000   \n",
       "mean    446.000000    0.383838    2.308642   29.699118    0.523008   \n",
       "std     257.353842    0.486592    0.836071   14.526497    1.102743   \n",
       "min       1.000000    0.000000    1.000000    0.420000    0.000000   \n",
       "25%     223.500000    0.000000    2.000000   20.125000    0.000000   \n",
       "50%     446.000000    0.000000    3.000000   28.000000    0.000000   \n",
       "75%     668.500000    1.000000    3.000000   38.000000    1.000000   \n",
       "max     891.000000    1.000000    3.000000   80.000000    8.000000   \n",
       "\n",
       "            Parch        Fare  \n",
       "count  891.000000  891.000000  \n",
       "mean     0.381594   32.204208  \n",
       "std      0.806057   49.693429  \n",
       "min      0.000000    0.000000  \n",
       "25%      0.000000    7.910400  \n",
       "50%      0.000000   14.454200  \n",
       "75%      0.000000   31.000000  \n",
       "max      6.000000  512.329200  "
      ]
     },
     "execution_count": 3,
     "metadata": {},
     "output_type": "execute_result"
    }
   ],
   "source": [
    "data.describe()"
   ]
  },
  {
   "cell_type": "code",
   "execution_count": 4,
   "metadata": {
    "ExecuteTime": {
     "end_time": "2020-05-17T08:40:23.077631Z",
     "start_time": "2020-05-17T08:40:23.064158Z"
    }
   },
   "outputs": [
    {
     "data": {
      "text/html": [
       "<div>\n",
       "<style scoped>\n",
       "    .dataframe tbody tr th:only-of-type {\n",
       "        vertical-align: middle;\n",
       "    }\n",
       "\n",
       "    .dataframe tbody tr th {\n",
       "        vertical-align: top;\n",
       "    }\n",
       "\n",
       "    .dataframe thead th {\n",
       "        text-align: right;\n",
       "    }\n",
       "</style>\n",
       "<table border=\"1\" class=\"dataframe\">\n",
       "  <thead>\n",
       "    <tr style=\"text-align: right;\">\n",
       "      <th></th>\n",
       "      <th>PassengerId</th>\n",
       "      <th>Survived</th>\n",
       "      <th>Pclass</th>\n",
       "      <th>Name</th>\n",
       "      <th>Sex</th>\n",
       "      <th>Age</th>\n",
       "      <th>SibSp</th>\n",
       "      <th>Parch</th>\n",
       "      <th>Ticket</th>\n",
       "      <th>Fare</th>\n",
       "      <th>Cabin</th>\n",
       "      <th>Embarked</th>\n",
       "    </tr>\n",
       "  </thead>\n",
       "  <tbody>\n",
       "    <tr>\n",
       "      <th>0</th>\n",
       "      <td>1</td>\n",
       "      <td>0</td>\n",
       "      <td>3</td>\n",
       "      <td>Braund, Mr. Owen Harris</td>\n",
       "      <td>male</td>\n",
       "      <td>22.0</td>\n",
       "      <td>1</td>\n",
       "      <td>0</td>\n",
       "      <td>A/5 21171</td>\n",
       "      <td>7.2500</td>\n",
       "      <td>NaN</td>\n",
       "      <td>S</td>\n",
       "    </tr>\n",
       "    <tr>\n",
       "      <th>1</th>\n",
       "      <td>2</td>\n",
       "      <td>1</td>\n",
       "      <td>1</td>\n",
       "      <td>Cumings, Mrs. John Bradley (Florence Briggs Th...</td>\n",
       "      <td>female</td>\n",
       "      <td>38.0</td>\n",
       "      <td>1</td>\n",
       "      <td>0</td>\n",
       "      <td>PC 17599</td>\n",
       "      <td>71.2833</td>\n",
       "      <td>C85</td>\n",
       "      <td>C</td>\n",
       "    </tr>\n",
       "    <tr>\n",
       "      <th>2</th>\n",
       "      <td>3</td>\n",
       "      <td>1</td>\n",
       "      <td>3</td>\n",
       "      <td>Heikkinen, Miss. Laina</td>\n",
       "      <td>female</td>\n",
       "      <td>26.0</td>\n",
       "      <td>0</td>\n",
       "      <td>0</td>\n",
       "      <td>STON/O2. 3101282</td>\n",
       "      <td>7.9250</td>\n",
       "      <td>NaN</td>\n",
       "      <td>S</td>\n",
       "    </tr>\n",
       "    <tr>\n",
       "      <th>3</th>\n",
       "      <td>4</td>\n",
       "      <td>1</td>\n",
       "      <td>1</td>\n",
       "      <td>Futrelle, Mrs. Jacques Heath (Lily May Peel)</td>\n",
       "      <td>female</td>\n",
       "      <td>35.0</td>\n",
       "      <td>1</td>\n",
       "      <td>0</td>\n",
       "      <td>113803</td>\n",
       "      <td>53.1000</td>\n",
       "      <td>C123</td>\n",
       "      <td>S</td>\n",
       "    </tr>\n",
       "    <tr>\n",
       "      <th>4</th>\n",
       "      <td>5</td>\n",
       "      <td>0</td>\n",
       "      <td>3</td>\n",
       "      <td>Allen, Mr. William Henry</td>\n",
       "      <td>male</td>\n",
       "      <td>35.0</td>\n",
       "      <td>0</td>\n",
       "      <td>0</td>\n",
       "      <td>373450</td>\n",
       "      <td>8.0500</td>\n",
       "      <td>NaN</td>\n",
       "      <td>S</td>\n",
       "    </tr>\n",
       "  </tbody>\n",
       "</table>\n",
       "</div>"
      ],
      "text/plain": [
       "   PassengerId  Survived  Pclass  \\\n",
       "0            1         0       3   \n",
       "1            2         1       1   \n",
       "2            3         1       3   \n",
       "3            4         1       1   \n",
       "4            5         0       3   \n",
       "\n",
       "                                                Name     Sex   Age  SibSp  \\\n",
       "0                            Braund, Mr. Owen Harris    male  22.0      1   \n",
       "1  Cumings, Mrs. John Bradley (Florence Briggs Th...  female  38.0      1   \n",
       "2                             Heikkinen, Miss. Laina  female  26.0      0   \n",
       "3       Futrelle, Mrs. Jacques Heath (Lily May Peel)  female  35.0      1   \n",
       "4                           Allen, Mr. William Henry    male  35.0      0   \n",
       "\n",
       "   Parch            Ticket     Fare Cabin Embarked  \n",
       "0      0         A/5 21171   7.2500   NaN        S  \n",
       "1      0          PC 17599  71.2833   C85        C  \n",
       "2      0  STON/O2. 3101282   7.9250   NaN        S  \n",
       "3      0            113803  53.1000  C123        S  \n",
       "4      0            373450   8.0500   NaN        S  "
      ]
     },
     "execution_count": 4,
     "metadata": {},
     "output_type": "execute_result"
    }
   ],
   "source": [
    "data.head()"
   ]
  },
  {
   "cell_type": "markdown",
   "metadata": {},
   "source": [
    "# Data preprocessing"
   ]
  },
  {
   "cell_type": "markdown",
   "metadata": {},
   "source": [
    "## Finding missing data"
   ]
  },
  {
   "cell_type": "code",
   "execution_count": 5,
   "metadata": {
    "ExecuteTime": {
     "end_time": "2020-05-17T08:40:26.059941Z",
     "start_time": "2020-05-17T08:40:26.054567Z"
    }
   },
   "outputs": [
    {
     "name": "stdout",
     "output_type": "stream",
     "text": [
      "Columns having NaN values are->['Age', 'Cabin', 'Embarked']\n"
     ]
    }
   ],
   "source": [
    "columns_missing_values = [col for col in data.columns if data[col].isnull().any()]\n",
    "print('Columns having NaN values are->' + str(columns_missing_values))"
   ]
  },
  {
   "cell_type": "code",
   "execution_count": 6,
   "metadata": {
    "ExecuteTime": {
     "end_time": "2020-05-17T08:40:26.709478Z",
     "start_time": "2020-05-17T08:40:26.706119Z"
    }
   },
   "outputs": [
    {
     "name": "stdout",
     "output_type": "stream",
     "text": [
      "Number of rows with NaN for Cabin column ->687\n"
     ]
    }
   ],
   "source": [
    "print('Number of rows with NaN for Cabin column ->' + str(data.Cabin.isnull().sum()))"
   ]
  },
  {
   "cell_type": "code",
   "execution_count": 7,
   "metadata": {
    "ExecuteTime": {
     "end_time": "2020-05-17T08:40:27.392431Z",
     "start_time": "2020-05-17T08:40:27.389085Z"
    }
   },
   "outputs": [
    {
     "name": "stdout",
     "output_type": "stream",
     "text": [
      "Number of rows with NaN for Age column ->177\n"
     ]
    }
   ],
   "source": [
    "print('Number of rows with NaN for Age column ->' + str(data.Age.isnull().sum()))"
   ]
  },
  {
   "cell_type": "code",
   "execution_count": 8,
   "metadata": {
    "ExecuteTime": {
     "end_time": "2020-05-17T08:40:28.730045Z",
     "start_time": "2020-05-17T08:40:28.726632Z"
    }
   },
   "outputs": [
    {
     "name": "stdout",
     "output_type": "stream",
     "text": [
      "Number of rows with NaN for Embarked column ->2\n"
     ]
    }
   ],
   "source": [
    "print('Number of rows with NaN for Embarked column ->' + str(data.Embarked.isnull().sum()))"
   ]
  },
  {
   "cell_type": "code",
   "execution_count": 9,
   "metadata": {
    "ExecuteTime": {
     "end_time": "2020-05-17T08:40:37.231480Z",
     "start_time": "2020-05-17T08:40:37.222289Z"
    }
   },
   "outputs": [
    {
     "data": {
      "text/plain": [
       "count    891.000000\n",
       "mean      32.204208\n",
       "std       49.693429\n",
       "min        0.000000\n",
       "25%        7.910400\n",
       "50%       14.454200\n",
       "75%       31.000000\n",
       "max      512.329200\n",
       "Name: Fare, dtype: float64"
      ]
     },
     "execution_count": 9,
     "metadata": {},
     "output_type": "execute_result"
    }
   ],
   "source": [
    "data.Fare.describe()"
   ]
  },
  {
   "cell_type": "code",
   "execution_count": 10,
   "metadata": {
    "ExecuteTime": {
     "end_time": "2020-05-17T08:40:38.147434Z",
     "start_time": "2020-05-17T08:40:38.140723Z"
    }
   },
   "outputs": [
    {
     "data": {
      "text/plain": [
       "count    891.000000\n",
       "mean       0.383838\n",
       "std        0.486592\n",
       "min        0.000000\n",
       "25%        0.000000\n",
       "50%        0.000000\n",
       "75%        1.000000\n",
       "max        1.000000\n",
       "Name: Survived, dtype: float64"
      ]
     },
     "execution_count": 10,
     "metadata": {},
     "output_type": "execute_result"
    }
   ],
   "source": [
    "data.Survived.describe()"
   ]
  },
  {
   "cell_type": "markdown",
   "metadata": {},
   "source": [
    "## Finding categorical columns"
   ]
  },
  {
   "cell_type": "code",
   "execution_count": 12,
   "metadata": {
    "ExecuteTime": {
     "end_time": "2020-05-17T08:41:03.911457Z",
     "start_time": "2020-05-17T08:41:03.907897Z"
    }
   },
   "outputs": [
    {
     "name": "stdout",
     "output_type": "stream",
     "text": [
      "Columns having dtype = object -> ['Name', 'Sex', 'Ticket', 'Cabin', 'Embarked']\n"
     ]
    }
   ],
   "source": [
    "object_columns = [col for col in data.columns if str(data[col].dtype) == 'object']\n",
    "print('Columns having dtype = object -> ' + str(object_columns))"
   ]
  },
  {
   "cell_type": "code",
   "execution_count": 13,
   "metadata": {
    "ExecuteTime": {
     "end_time": "2020-05-17T08:41:04.843349Z",
     "start_time": "2020-05-17T08:41:04.841041Z"
    }
   },
   "outputs": [],
   "source": [
    "category_columns = ['Sex', 'Embarked']"
   ]
  },
  {
   "cell_type": "code",
   "execution_count": 14,
   "metadata": {
    "ExecuteTime": {
     "end_time": "2020-05-17T08:41:10.053279Z",
     "start_time": "2020-05-17T08:41:10.034922Z"
    }
   },
   "outputs": [
    {
     "data": {
      "text/html": [
       "<div>\n",
       "<style scoped>\n",
       "    .dataframe tbody tr th:only-of-type {\n",
       "        vertical-align: middle;\n",
       "    }\n",
       "\n",
       "    .dataframe tbody tr th {\n",
       "        vertical-align: top;\n",
       "    }\n",
       "\n",
       "    .dataframe thead th {\n",
       "        text-align: right;\n",
       "    }\n",
       "</style>\n",
       "<table border=\"1\" class=\"dataframe\">\n",
       "  <thead>\n",
       "    <tr style=\"text-align: right;\">\n",
       "      <th></th>\n",
       "      <th>PassengerId</th>\n",
       "      <th>Survived</th>\n",
       "      <th>Pclass</th>\n",
       "      <th>Name</th>\n",
       "      <th>Sex</th>\n",
       "      <th>Age</th>\n",
       "      <th>SibSp</th>\n",
       "      <th>Parch</th>\n",
       "      <th>Ticket</th>\n",
       "      <th>Fare</th>\n",
       "      <th>Cabin</th>\n",
       "      <th>Embarked</th>\n",
       "      <th>Sex_category</th>\n",
       "      <th>Embarked_category</th>\n",
       "    </tr>\n",
       "  </thead>\n",
       "  <tbody>\n",
       "    <tr>\n",
       "      <th>0</th>\n",
       "      <td>1</td>\n",
       "      <td>0</td>\n",
       "      <td>3</td>\n",
       "      <td>Braund, Mr. Owen Harris</td>\n",
       "      <td>male</td>\n",
       "      <td>22.0</td>\n",
       "      <td>1</td>\n",
       "      <td>0</td>\n",
       "      <td>A/5 21171</td>\n",
       "      <td>7.2500</td>\n",
       "      <td>NaN</td>\n",
       "      <td>S</td>\n",
       "      <td>1</td>\n",
       "      <td>2</td>\n",
       "    </tr>\n",
       "    <tr>\n",
       "      <th>1</th>\n",
       "      <td>2</td>\n",
       "      <td>1</td>\n",
       "      <td>1</td>\n",
       "      <td>Cumings, Mrs. John Bradley (Florence Briggs Th...</td>\n",
       "      <td>female</td>\n",
       "      <td>38.0</td>\n",
       "      <td>1</td>\n",
       "      <td>0</td>\n",
       "      <td>PC 17599</td>\n",
       "      <td>71.2833</td>\n",
       "      <td>C85</td>\n",
       "      <td>C</td>\n",
       "      <td>0</td>\n",
       "      <td>0</td>\n",
       "    </tr>\n",
       "    <tr>\n",
       "      <th>2</th>\n",
       "      <td>3</td>\n",
       "      <td>1</td>\n",
       "      <td>3</td>\n",
       "      <td>Heikkinen, Miss. Laina</td>\n",
       "      <td>female</td>\n",
       "      <td>26.0</td>\n",
       "      <td>0</td>\n",
       "      <td>0</td>\n",
       "      <td>STON/O2. 3101282</td>\n",
       "      <td>7.9250</td>\n",
       "      <td>NaN</td>\n",
       "      <td>S</td>\n",
       "      <td>0</td>\n",
       "      <td>2</td>\n",
       "    </tr>\n",
       "    <tr>\n",
       "      <th>3</th>\n",
       "      <td>4</td>\n",
       "      <td>1</td>\n",
       "      <td>1</td>\n",
       "      <td>Futrelle, Mrs. Jacques Heath (Lily May Peel)</td>\n",
       "      <td>female</td>\n",
       "      <td>35.0</td>\n",
       "      <td>1</td>\n",
       "      <td>0</td>\n",
       "      <td>113803</td>\n",
       "      <td>53.1000</td>\n",
       "      <td>C123</td>\n",
       "      <td>S</td>\n",
       "      <td>0</td>\n",
       "      <td>2</td>\n",
       "    </tr>\n",
       "    <tr>\n",
       "      <th>4</th>\n",
       "      <td>5</td>\n",
       "      <td>0</td>\n",
       "      <td>3</td>\n",
       "      <td>Allen, Mr. William Henry</td>\n",
       "      <td>male</td>\n",
       "      <td>35.0</td>\n",
       "      <td>0</td>\n",
       "      <td>0</td>\n",
       "      <td>373450</td>\n",
       "      <td>8.0500</td>\n",
       "      <td>NaN</td>\n",
       "      <td>S</td>\n",
       "      <td>1</td>\n",
       "      <td>2</td>\n",
       "    </tr>\n",
       "  </tbody>\n",
       "</table>\n",
       "</div>"
      ],
      "text/plain": [
       "   PassengerId  Survived  Pclass  \\\n",
       "0            1         0       3   \n",
       "1            2         1       1   \n",
       "2            3         1       3   \n",
       "3            4         1       1   \n",
       "4            5         0       3   \n",
       "\n",
       "                                                Name     Sex   Age  SibSp  \\\n",
       "0                            Braund, Mr. Owen Harris    male  22.0      1   \n",
       "1  Cumings, Mrs. John Bradley (Florence Briggs Th...  female  38.0      1   \n",
       "2                             Heikkinen, Miss. Laina  female  26.0      0   \n",
       "3       Futrelle, Mrs. Jacques Heath (Lily May Peel)  female  35.0      1   \n",
       "4                           Allen, Mr. William Henry    male  35.0      0   \n",
       "\n",
       "   Parch            Ticket     Fare Cabin Embarked  Sex_category  \\\n",
       "0      0         A/5 21171   7.2500   NaN        S             1   \n",
       "1      0          PC 17599  71.2833   C85        C             0   \n",
       "2      0  STON/O2. 3101282   7.9250   NaN        S             0   \n",
       "3      0            113803  53.1000  C123        S             0   \n",
       "4      0            373450   8.0500   NaN        S             1   \n",
       "\n",
       "   Embarked_category  \n",
       "0                  2  \n",
       "1                  0  \n",
       "2                  2  \n",
       "3                  2  \n",
       "4                  2  "
      ]
     },
     "execution_count": 14,
     "metadata": {},
     "output_type": "execute_result"
    }
   ],
   "source": [
    "for col in category_columns:\n",
    "    data[col] = data[col].astype('category')\n",
    "    data[col+'_category'] = data[col].cat.codes\n",
    "data.head()"
   ]
  },
  {
   "cell_type": "markdown",
   "metadata": {},
   "source": [
    "# Data Visualization"
   ]
  },
  {
   "cell_type": "code",
   "execution_count": 18,
   "metadata": {
    "ExecuteTime": {
     "end_time": "2020-05-17T08:45:18.786316Z",
     "start_time": "2020-05-17T08:45:18.328011Z"
    }
   },
   "outputs": [
    {
     "data": {
      "text/plain": [
       "<matplotlib.axes._subplots.AxesSubplot at 0x7fc189184a10>"
      ]
     },
     "execution_count": 18,
     "metadata": {},
     "output_type": "execute_result"
    },
    {
     "data": {
      "image/png": "[encoded data removed]",
      "text/plain": [
       "<Figure size 1440x576 with 1 Axes>"
      ]
     },
     "metadata": {
      "needs_background": "light"
     },
     "output_type": "display_data"
    }
   ],
   "source": [
    "plt.figure(figsize=(20,8))\n",
    "sns.regplot(x = data['Survived'], y=data['Fare'])"
   ]
  },
  {
   "cell_type": "code",
   "execution_count": 19,
   "metadata": {
    "ExecuteTime": {
     "end_time": "2020-05-17T08:45:21.537173Z",
     "start_time": "2020-05-17T08:45:21.119909Z"
    }
   },
   "outputs": [
    {
     "data": {
      "text/plain": [
       "<matplotlib.axes._subplots.AxesSubplot at 0x7fc188e7c0d0>"
      ]
     },
     "execution_count": 19,
     "metadata": {},
     "output_type": "execute_result"
    },
    {
     "data": {
      "image/png": "[encoded data removed]",
      "text/plain": [
       "<Figure size 1440x576 with 1 Axes>"
      ]
     },
     "metadata": {
      "needs_background": "light"
     },
     "output_type": "display_data"
    }
   ],
   "source": [
    "plt.figure(figsize=(20,8))\n",
    "sns.regplot(x = data['Survived'], y=data['Age'])"
   ]
  },
  {
   "cell_type": "code",
   "execution_count": 20,
   "metadata": {
    "ExecuteTime": {
     "end_time": "2020-05-17T08:45:24.511634Z",
     "start_time": "2020-05-17T08:45:24.083231Z"
    }
   },
   "outputs": [
    {
     "data": {
      "text/plain": [
       "<matplotlib.axes._subplots.AxesSubplot at 0x7fc188ea3c50>"
      ]
     },
     "execution_count": 20,
     "metadata": {},
     "output_type": "execute_result"
    },
    {
     "data": {
      "image/png": "[encoded data removed]",
      "text/plain": [
       "<Figure size 1440x576 with 1 Axes>"
      ]
     },
     "metadata": {
      "needs_background": "light"
     },
     "output_type": "display_data"
    }
   ],
   "source": [
    "plt.figure(figsize=(20,8))\n",
    "sns.regplot(x = data['Survived'], y=data['Pclass'])"
   ]
  },
  {
   "cell_type": "markdown",
   "metadata": {
    "ExecuteTime": {
     "end_time": "2020-05-17T07:31:52.046603Z",
     "start_time": "2020-05-17T07:31:52.043157Z"
    }
   },
   "source": [
    "<b>We can see here that the higher the Pclass the more survival rate the passenger has.</b>"
   ]
  },
  {
   "cell_type": "code",
   "execution_count": 21,
   "metadata": {
    "ExecuteTime": {
     "end_time": "2020-05-17T08:45:26.315638Z",
     "start_time": "2020-05-17T08:45:25.878534Z"
    }
   },
   "outputs": [
    {
     "data": {
      "text/plain": [
       "<matplotlib.axes._subplots.AxesSubplot at 0x7fc188e5b110>"
      ]
     },
     "execution_count": 21,
     "metadata": {},
     "output_type": "execute_result"
    },
    {
     "data": {
      "image/png": "[encoded data removed]",
      "text/plain": [
       "<Figure size 1440x576 with 1 Axes>"
      ]
     },
     "metadata": {
      "needs_background": "light"
     },
     "output_type": "display_data"
    }
   ],
   "source": [
    "plt.figure(figsize=(20,8))\n",
    "sns.regplot(x = data['Pclass'], y=data['Fare'])"
   ]
  },
  {
   "cell_type": "markdown",
   "metadata": {},
   "source": [
    "<b>We can infer from this that more the Pclass of a passenger(1 is higher and 3 is lower), the more Fare he had paid for the journey. So we can just work with Fare or Pclass for now.</b>"
   ]
  },
  {
   "cell_type": "code",
   "execution_count": 22,
   "metadata": {
    "ExecuteTime": {
     "end_time": "2020-05-17T08:45:28.425853Z",
     "start_time": "2020-05-17T08:45:27.985329Z"
    }
   },
   "outputs": [
    {
     "data": {
      "text/plain": [
       "<matplotlib.axes._subplots.AxesSubplot at 0x7fc1885951d0>"
      ]
     },
     "execution_count": 22,
     "metadata": {},
     "output_type": "execute_result"
    },
    {
     "data": {
      "image/png": "[encoded data removed]",
      "text/plain": [
       "<Figure size 1440x576 with 1 Axes>"
      ]
     },
     "metadata": {
      "needs_background": "light"
     },
     "output_type": "display_data"
    }
   ],
   "source": [
    "plt.figure(figsize=(20,8))\n",
    "sns.regplot(x = data['Survived'], y=data['Fare'])"
   ]
  },
  {
   "cell_type": "code",
   "execution_count": 78,
   "metadata": {
    "ExecuteTime": {
     "end_time": "2020-05-17T07:32:23.121780Z",
     "start_time": "2020-05-17T07:32:22.726094Z"
    }
   },
   "outputs": [
    {
     "data": {
      "text/plain": [
       "<matplotlib.axes._subplots.AxesSubplot at 0x7f1bba377390>"
      ]
     },
     "execution_count": 78,
     "metadata": {},
     "output_type": "execute_result"
    },
    {
     "data": {
      "image/png": "[encoded data removed]",
      "text/plain": [
       "<Figure size 1440x576 with 1 Axes>"
      ]
     },
     "metadata": {
      "needs_background": "light"
     },
     "output_type": "display_data"
    }
   ],
   "source": [
    "plt.figure(figsize=(20,8))\n",
    "sns.regplot(x = data['Survived'], y=data['Sex_category'])"
   ]
  },
  {
   "cell_type": "markdown",
   "metadata": {},
   "source": [
    "<b>We can see here that the female had a better survival rate compared to men.</b>"
   ]
  },
  {
   "cell_type": "code",
   "execution_count": 23,
   "metadata": {
    "ExecuteTime": {
     "end_time": "2020-05-17T08:45:31.207641Z",
     "start_time": "2020-05-17T08:45:30.535472Z"
    }
   },
   "outputs": [
    {
     "data": {
      "text/plain": [
       "<matplotlib.axes._subplots.AxesSubplot at 0x7fc188561910>"
      ]
     },
     "execution_count": 23,
     "metadata": {},
     "output_type": "execute_result"
    },
    {
     "data": {
      "image/png": "[encoded data removed]",
      "text/plain": [
       "<Figure size 1440x576 with 1 Axes>"
      ]
     },
     "metadata": {
      "needs_background": "light"
     },
     "output_type": "display_data"
    }
   ],
   "source": [
    "plt.figure(figsize=(20,8))\n",
    "sns.regplot(x = data['Survived'], y=data['Embarked_category'])"
   ]
  },
  {
   "cell_type": "markdown",
   "metadata": {},
   "source": [
    "<b>We have a basic correlation between Embarked category and survival rate</b>"
   ]
  },
  {
   "cell_type": "code",
   "execution_count": 24,
   "metadata": {
    "ExecuteTime": {
     "end_time": "2020-05-17T08:45:37.963405Z",
     "start_time": "2020-05-17T08:45:33.573274Z"
    }
   },
   "outputs": [
    {
     "data": {
      "text/plain": [
       "<matplotlib.axes._subplots.AxesSubplot at 0x7fc1884e3290>"
      ]
     },
     "execution_count": 24,
     "metadata": {},
     "output_type": "execute_result"
    },
    {
     "data": {
      "image/png": "[encoded data removed]",
      "text/plain": [
       "<Figure size 1440x576 with 1 Axes>"
      ]
     },
     "metadata": {
      "needs_background": "light"
     },
     "output_type": "display_data"
    }
   ],
   "source": [
    "plt.figure(figsize=(20,8))\n",
    "sns.swarmplot(x = data['Survived'], y=data['Cabin'])"
   ]
  },
  {
   "cell_type": "code",
   "execution_count": 25,
   "metadata": {
    "ExecuteTime": {
     "end_time": "2020-05-17T08:45:39.791530Z",
     "start_time": "2020-05-17T08:45:39.294078Z"
    }
   },
   "outputs": [
    {
     "data": {
      "text/plain": [
       "<matplotlib.axes._subplots.AxesSubplot at 0x7fc1884813d0>"
      ]
     },
     "execution_count": 25,
     "metadata": {},
     "output_type": "execute_result"
    },
    {
     "data": {
      "image/png": "[encoded data removed]",
      "text/plain": [
       "<Figure size 1440x576 with 1 Axes>"
      ]
     },
     "metadata": {
      "needs_background": "light"
     },
     "output_type": "display_data"
    }
   ],
   "source": [
    "plt.figure(figsize=(20,8))\n",
    "sns.regplot(x = data['Survived'], y=data['SibSp'])"
   ]
  },
  {
   "cell_type": "code",
   "execution_count": 26,
   "metadata": {
    "ExecuteTime": {
     "end_time": "2020-05-17T08:45:43.613262Z",
     "start_time": "2020-05-17T08:45:43.177047Z"
    }
   },
   "outputs": [
    {
     "data": {
      "text/plain": [
       "<matplotlib.axes._subplots.AxesSubplot at 0x7fc188034910>"
      ]
     },
     "execution_count": 26,
     "metadata": {},
     "output_type": "execute_result"
    },
    {
     "data": {
      "image/png": "[encoded data removed]",
      "text/plain": [
       "<Figure size 1440x576 with 1 Axes>"
      ]
     },
     "metadata": {
      "needs_background": "light"
     },
     "output_type": "display_data"
    }
   ],
   "source": [
    "plt.figure(figsize=(20,8))\n",
    "sns.regplot(x = data['Survived'], y=data['Parch'])"
   ]
  },
  {
   "cell_type": "markdown",
   "metadata": {},
   "source": [
    "# Model creation"
   ]
  },
  {
   "cell_type": "markdown",
   "metadata": {},
   "source": [
    "From the above figures we can pick some columns for our model."
   ]
  },
  {
   "cell_type": "code",
   "execution_count": 27,
   "metadata": {
    "ExecuteTime": {
     "end_time": "2020-05-17T08:45:45.443714Z",
     "start_time": "2020-05-17T08:45:45.441357Z"
    }
   },
   "outputs": [],
   "source": [
    "columns = ['Fare', 'Sex_category', 'Pclass', 'Embarked_category']\n",
    "label = 'Survived'"
   ]
  },
  {
   "cell_type": "code",
   "execution_count": 36,
   "metadata": {
    "ExecuteTime": {
     "end_time": "2020-05-17T08:54:06.230817Z",
     "start_time": "2020-05-17T08:54:06.223543Z"
    }
   },
   "outputs": [],
   "source": [
    "data_shuffled = data.sample(frac=1)\n",
    "train_len = int(0.7 * len(data_shuffled))\n",
    "X = data[columns].copy()\n",
    "y = data[label].copy()\n",
    "X_train = X[:train_len]\n",
    "y_train = y[:train_len]\n",
    "X_val = X[train_len:]\n",
    "y_val = y[train_len:]"
   ]
  },
  {
   "cell_type": "code",
   "execution_count": 29,
   "metadata": {
    "ExecuteTime": {
     "end_time": "2020-05-17T08:45:46.858412Z",
     "start_time": "2020-05-17T08:45:46.850036Z"
    }
   },
   "outputs": [
    {
     "data": {
      "text/html": [
       "<div>\n",
       "<style scoped>\n",
       "    .dataframe tbody tr th:only-of-type {\n",
       "        vertical-align: middle;\n",
       "    }\n",
       "\n",
       "    .dataframe tbody tr th {\n",
       "        vertical-align: top;\n",
       "    }\n",
       "\n",
       "    .dataframe thead th {\n",
       "        text-align: right;\n",
       "    }\n",
       "</style>\n",
       "<table border=\"1\" class=\"dataframe\">\n",
       "  <thead>\n",
       "    <tr style=\"text-align: right;\">\n",
       "      <th></th>\n",
       "      <th>Fare</th>\n",
       "      <th>Sex_category</th>\n",
       "      <th>Pclass</th>\n",
       "      <th>Embarked_category</th>\n",
       "    </tr>\n",
       "  </thead>\n",
       "  <tbody>\n",
       "    <tr>\n",
       "      <th>0</th>\n",
       "      <td>7.2500</td>\n",
       "      <td>1</td>\n",
       "      <td>3</td>\n",
       "      <td>2</td>\n",
       "    </tr>\n",
       "    <tr>\n",
       "      <th>1</th>\n",
       "      <td>71.2833</td>\n",
       "      <td>0</td>\n",
       "      <td>1</td>\n",
       "      <td>0</td>\n",
       "    </tr>\n",
       "    <tr>\n",
       "      <th>2</th>\n",
       "      <td>7.9250</td>\n",
       "      <td>0</td>\n",
       "      <td>3</td>\n",
       "      <td>2</td>\n",
       "    </tr>\n",
       "    <tr>\n",
       "      <th>3</th>\n",
       "      <td>53.1000</td>\n",
       "      <td>0</td>\n",
       "      <td>1</td>\n",
       "      <td>2</td>\n",
       "    </tr>\n",
       "    <tr>\n",
       "      <th>4</th>\n",
       "      <td>8.0500</td>\n",
       "      <td>1</td>\n",
       "      <td>3</td>\n",
       "      <td>2</td>\n",
       "    </tr>\n",
       "  </tbody>\n",
       "</table>\n",
       "</div>"
      ],
      "text/plain": [
       "      Fare  Sex_category  Pclass  Embarked_category\n",
       "0   7.2500             1       3                  2\n",
       "1  71.2833             0       1                  0\n",
       "2   7.9250             0       3                  2\n",
       "3  53.1000             0       1                  2\n",
       "4   8.0500             1       3                  2"
      ]
     },
     "execution_count": 29,
     "metadata": {},
     "output_type": "execute_result"
    }
   ],
   "source": [
    "X.head()"
   ]
  },
  {
   "cell_type": "code",
   "execution_count": 38,
   "metadata": {
    "ExecuteTime": {
     "end_time": "2020-05-17T08:55:00.011281Z",
     "start_time": "2020-05-17T08:55:00.007940Z"
    }
   },
   "outputs": [
    {
     "name": "stdout",
     "output_type": "stream",
     "text": [
      "Train data shape: (623, 4)\n",
      "Validation data shape: (268, 4)\n"
     ]
    }
   ],
   "source": [
    "print('Train data shape: '+ str(X_train.shape))\n",
    "print('Validation data shape: '+ str(X_val.shape))"
   ]
  },
  {
   "cell_type": "code",
   "execution_count": 40,
   "metadata": {
    "ExecuteTime": {
     "end_time": "2020-05-17T08:56:24.342649Z",
     "start_time": "2020-05-17T08:56:24.335174Z"
    }
   },
   "outputs": [
    {
     "data": {
      "text/html": [
       "<div>\n",
       "<style scoped>\n",
       "    .dataframe tbody tr th:only-of-type {\n",
       "        vertical-align: middle;\n",
       "    }\n",
       "\n",
       "    .dataframe tbody tr th {\n",
       "        vertical-align: top;\n",
       "    }\n",
       "\n",
       "    .dataframe thead th {\n",
       "        text-align: right;\n",
       "    }\n",
       "</style>\n",
       "<table border=\"1\" class=\"dataframe\">\n",
       "  <thead>\n",
       "    <tr style=\"text-align: right;\">\n",
       "      <th></th>\n",
       "      <th>Fare</th>\n",
       "      <th>Sex_category</th>\n",
       "      <th>Pclass</th>\n",
       "      <th>Embarked_category</th>\n",
       "    </tr>\n",
       "  </thead>\n",
       "  <tbody>\n",
       "    <tr>\n",
       "      <th>0</th>\n",
       "      <td>7.2500</td>\n",
       "      <td>1</td>\n",
       "      <td>3</td>\n",
       "      <td>2</td>\n",
       "    </tr>\n",
       "    <tr>\n",
       "      <th>1</th>\n",
       "      <td>71.2833</td>\n",
       "      <td>0</td>\n",
       "      <td>1</td>\n",
       "      <td>0</td>\n",
       "    </tr>\n",
       "    <tr>\n",
       "      <th>2</th>\n",
       "      <td>7.9250</td>\n",
       "      <td>0</td>\n",
       "      <td>3</td>\n",
       "      <td>2</td>\n",
       "    </tr>\n",
       "    <tr>\n",
       "      <th>3</th>\n",
       "      <td>53.1000</td>\n",
       "      <td>0</td>\n",
       "      <td>1</td>\n",
       "      <td>2</td>\n",
       "    </tr>\n",
       "    <tr>\n",
       "      <th>4</th>\n",
       "      <td>8.0500</td>\n",
       "      <td>1</td>\n",
       "      <td>3</td>\n",
       "      <td>2</td>\n",
       "    </tr>\n",
       "  </tbody>\n",
       "</table>\n",
       "</div>"
      ],
      "text/plain": [
       "      Fare  Sex_category  Pclass  Embarked_category\n",
       "0   7.2500             1       3                  2\n",
       "1  71.2833             0       1                  0\n",
       "2   7.9250             0       3                  2\n",
       "3  53.1000             0       1                  2\n",
       "4   8.0500             1       3                  2"
      ]
     },
     "execution_count": 40,
     "metadata": {},
     "output_type": "execute_result"
    }
   ],
   "source": [
    "X_train.head()"
   ]
  },
  {
   "cell_type": "code",
   "execution_count": 41,
   "metadata": {
    "ExecuteTime": {
     "end_time": "2020-05-17T08:56:32.322233Z",
     "start_time": "2020-05-17T08:56:32.314381Z"
    }
   },
   "outputs": [
    {
     "data": {
      "text/html": [
       "<div>\n",
       "<style scoped>\n",
       "    .dataframe tbody tr th:only-of-type {\n",
       "        vertical-align: middle;\n",
       "    }\n",
       "\n",
       "    .dataframe tbody tr th {\n",
       "        vertical-align: top;\n",
       "    }\n",
       "\n",
       "    .dataframe thead th {\n",
       "        text-align: right;\n",
       "    }\n",
       "</style>\n",
       "<table border=\"1\" class=\"dataframe\">\n",
       "  <thead>\n",
       "    <tr style=\"text-align: right;\">\n",
       "      <th></th>\n",
       "      <th>Fare</th>\n",
       "      <th>Sex_category</th>\n",
       "      <th>Pclass</th>\n",
       "      <th>Embarked_category</th>\n",
       "    </tr>\n",
       "  </thead>\n",
       "  <tbody>\n",
       "    <tr>\n",
       "      <th>623</th>\n",
       "      <td>7.8542</td>\n",
       "      <td>1</td>\n",
       "      <td>3</td>\n",
       "      <td>2</td>\n",
       "    </tr>\n",
       "    <tr>\n",
       "      <th>624</th>\n",
       "      <td>16.1000</td>\n",
       "      <td>1</td>\n",
       "      <td>3</td>\n",
       "      <td>2</td>\n",
       "    </tr>\n",
       "    <tr>\n",
       "      <th>625</th>\n",
       "      <td>32.3208</td>\n",
       "      <td>1</td>\n",
       "      <td>1</td>\n",
       "      <td>2</td>\n",
       "    </tr>\n",
       "    <tr>\n",
       "      <th>626</th>\n",
       "      <td>12.3500</td>\n",
       "      <td>1</td>\n",
       "      <td>2</td>\n",
       "      <td>1</td>\n",
       "    </tr>\n",
       "    <tr>\n",
       "      <th>627</th>\n",
       "      <td>77.9583</td>\n",
       "      <td>0</td>\n",
       "      <td>1</td>\n",
       "      <td>2</td>\n",
       "    </tr>\n",
       "  </tbody>\n",
       "</table>\n",
       "</div>"
      ],
      "text/plain": [
       "        Fare  Sex_category  Pclass  Embarked_category\n",
       "623   7.8542             1       3                  2\n",
       "624  16.1000             1       3                  2\n",
       "625  32.3208             1       1                  2\n",
       "626  12.3500             1       2                  1\n",
       "627  77.9583             0       1                  2"
      ]
     },
     "execution_count": 41,
     "metadata": {},
     "output_type": "execute_result"
    }
   ],
   "source": [
    "X_val.head()"
   ]
  },
  {
   "cell_type": "code",
   "execution_count": 43,
   "metadata": {
    "ExecuteTime": {
     "end_time": "2020-05-17T08:58:10.400547Z",
     "start_time": "2020-05-17T08:58:10.397018Z"
    }
   },
   "outputs": [
    {
     "data": {
      "text/plain": [
       "(623, 4)"
      ]
     },
     "execution_count": 43,
     "metadata": {},
     "output_type": "execute_result"
    }
   ],
   "source": [
    "X_train.values.shape"
   ]
  },
  {
   "cell_type": "markdown",
   "metadata": {},
   "source": [
    "## Linear model"
   ]
  },
  {
   "cell_type": "code",
   "execution_count": 30,
   "metadata": {
    "ExecuteTime": {
     "end_time": "2020-05-17T08:45:50.792142Z",
     "start_time": "2020-05-17T08:45:49.022643Z"
    }
   },
   "outputs": [],
   "source": [
    "from tensorflow.keras import Sequential\n",
    "from tensorflow.keras.layers import Dense"
   ]
  },
  {
   "cell_type": "code",
   "execution_count": 31,
   "metadata": {
    "ExecuteTime": {
     "end_time": "2020-05-17T08:45:50.855887Z",
     "start_time": "2020-05-17T08:45:50.851766Z"
    }
   },
   "outputs": [],
   "source": [
    "n_features = X.shape[1]"
   ]
  },
  {
   "cell_type": "code",
   "execution_count": 58,
   "metadata": {
    "ExecuteTime": {
     "end_time": "2020-05-17T09:06:17.293959Z",
     "start_time": "2020-05-17T09:06:17.276765Z"
    }
   },
   "outputs": [],
   "source": [
    "model_v1 = Sequential()\n",
    "model_v1.add(Dense(1, activation='sigmoid', input_shape = (n_features,)))"
   ]
  },
  {
   "cell_type": "code",
   "execution_count": 59,
   "metadata": {
    "ExecuteTime": {
     "end_time": "2020-05-17T09:06:17.934038Z",
     "start_time": "2020-05-17T09:06:17.891576Z"
    }
   },
   "outputs": [],
   "source": [
    "model_v1.compile(optimizer='adam', loss='binary_crossentropy', metrics=['accuracy'])"
   ]
  },
  {
   "cell_type": "code",
   "execution_count": 60,
   "metadata": {
    "ExecuteTime": {
     "end_time": "2020-05-17T09:06:28.130599Z",
     "start_time": "2020-05-17T09:06:18.534901Z"
    }
   },
   "outputs": [
    {
     "name": "stdout",
     "output_type": "stream",
     "text": [
      "Train on 623 samples\n",
      "Epoch 1/150\n",
      "623/623 [==============================] - 0s 603us/sample - loss: 5.4022 - accuracy: 0.4061\n",
      "Epoch 2/150\n",
      "623/623 [==============================] - 0s 89us/sample - loss: 5.0736 - accuracy: 0.4061\n",
      "Epoch 3/150\n",
      "623/623 [==============================] - 0s 95us/sample - loss: 4.7493 - accuracy: 0.4061\n",
      "Epoch 4/150\n",
      "623/623 [==============================] - 0s 89us/sample - loss: 4.4237 - accuracy: 0.4061\n",
      "Epoch 5/150\n",
      "623/623 [==============================] - 0s 94us/sample - loss: 4.1046 - accuracy: 0.4061\n",
      "Epoch 6/150\n",
      "623/623 [==============================] - 0s 104us/sample - loss: 3.7988 - accuracy: 0.4061\n",
      "Epoch 7/150\n",
      "623/623 [==============================] - 0s 88us/sample - loss: 3.4953 - accuracy: 0.4061\n",
      "Epoch 8/150\n",
      "623/623 [==============================] - 0s 100us/sample - loss: 3.2039 - accuracy: 0.4077\n",
      "Epoch 9/150\n",
      "623/623 [==============================] - 0s 84us/sample - loss: 2.9273 - accuracy: 0.4141\n",
      "Epoch 10/150\n",
      "623/623 [==============================] - 0s 112us/sample - loss: 2.6542 - accuracy: 0.4848\n",
      "Epoch 11/150\n",
      "623/623 [==============================] - 0s 114us/sample - loss: 2.4009 - accuracy: 0.5634\n",
      "Epoch 12/150\n",
      "623/623 [==============================] - 0s 161us/sample - loss: 2.1558 - accuracy: 0.5778\n",
      "Epoch 13/150\n",
      "623/623 [==============================] - 0s 134us/sample - loss: 1.9312 - accuracy: 0.5971\n",
      "Epoch 14/150\n",
      "623/623 [==============================] - 0s 102us/sample - loss: 1.7242 - accuracy: 0.6116\n",
      "Epoch 15/150\n",
      "623/623 [==============================] - 0s 104us/sample - loss: 1.5360 - accuracy: 0.6388\n",
      "Epoch 16/150\n",
      "623/623 [==============================] - 0s 94us/sample - loss: 1.3648 - accuracy: 0.6356\n",
      "Epoch 17/150\n",
      "623/623 [==============================] - 0s 87us/sample - loss: 1.2069 - accuracy: 0.6437\n",
      "Epoch 18/150\n",
      "623/623 [==============================] - 0s 108us/sample - loss: 1.0828 - accuracy: 0.6485\n",
      "Epoch 19/150\n",
      "623/623 [==============================] - 0s 66us/sample - loss: 0.9620 - accuracy: 0.6629\n",
      "Epoch 20/150\n",
      "623/623 [==============================] - 0s 191us/sample - loss: 0.8767 - accuracy: 0.6597\n",
      "Epoch 21/150\n",
      "623/623 [==============================] - 0s 134us/sample - loss: 0.8109 - accuracy: 0.6726\n",
      "Epoch 22/150\n",
      "623/623 [==============================] - 0s 100us/sample - loss: 0.7501 - accuracy: 0.6693\n",
      "Epoch 23/150\n",
      "623/623 [==============================] - 0s 100us/sample - loss: 0.7148 - accuracy: 0.6709\n",
      "Epoch 24/150\n",
      "623/623 [==============================] - 0s 103us/sample - loss: 0.6900 - accuracy: 0.6726\n",
      "Epoch 25/150\n",
      "623/623 [==============================] - 0s 88us/sample - loss: 0.6707 - accuracy: 0.6838\n",
      "Epoch 26/150\n",
      "623/623 [==============================] - 0s 86us/sample - loss: 0.6600 - accuracy: 0.6934\n",
      "Epoch 27/150\n",
      "623/623 [==============================] - 0s 87us/sample - loss: 0.6527 - accuracy: 0.6902\n",
      "Epoch 28/150\n",
      "623/623 [==============================] - 0s 85us/sample - loss: 0.6470 - accuracy: 0.6902\n",
      "Epoch 29/150\n",
      "623/623 [==============================] - 0s 89us/sample - loss: 0.6430 - accuracy: 0.6918\n",
      "Epoch 30/150\n",
      "623/623 [==============================] - 0s 86us/sample - loss: 0.6390 - accuracy: 0.6934\n",
      "Epoch 31/150\n",
      "623/623 [==============================] - 0s 78us/sample - loss: 0.6358 - accuracy: 0.6934\n",
      "Epoch 32/150\n",
      "623/623 [==============================] - 0s 83us/sample - loss: 0.6340 - accuracy: 0.6838\n",
      "Epoch 33/150\n",
      "623/623 [==============================] - 0s 100us/sample - loss: 0.6301 - accuracy: 0.6918\n",
      "Epoch 34/150\n",
      "623/623 [==============================] - 0s 97us/sample - loss: 0.6273 - accuracy: 0.6934\n",
      "Epoch 35/150\n",
      "623/623 [==============================] - 0s 79us/sample - loss: 0.6246 - accuracy: 0.7111\n",
      "Epoch 36/150\n",
      "623/623 [==============================] - 0s 91us/sample - loss: 0.6212 - accuracy: 0.7095\n",
      "Epoch 37/150\n",
      "623/623 [==============================] - 0s 101us/sample - loss: 0.6191 - accuracy: 0.7111\n",
      "Epoch 38/150\n",
      "623/623 [==============================] - 0s 111us/sample - loss: 0.6164 - accuracy: 0.7111\n",
      "Epoch 39/150\n",
      "623/623 [==============================] - 0s 104us/sample - loss: 0.6144 - accuracy: 0.7127\n",
      "Epoch 40/150\n",
      "623/623 [==============================] - 0s 92us/sample - loss: 0.6125 - accuracy: 0.7111\n",
      "Epoch 41/150\n",
      "623/623 [==============================] - 0s 82us/sample - loss: 0.6098 - accuracy: 0.7111\n",
      "Epoch 42/150\n",
      "623/623 [==============================] - 0s 82us/sample - loss: 0.6078 - accuracy: 0.7111\n",
      "Epoch 43/150\n",
      "623/623 [==============================] - 0s 78us/sample - loss: 0.6064 - accuracy: 0.7095\n",
      "Epoch 44/150\n",
      "623/623 [==============================] - 0s 82us/sample - loss: 0.6040 - accuracy: 0.7079\n",
      "Epoch 45/150\n",
      "623/623 [==============================] - 0s 83us/sample - loss: 0.6019 - accuracy: 0.7111\n",
      "Epoch 46/150\n",
      "623/623 [==============================] - 0s 80us/sample - loss: 0.6005 - accuracy: 0.7111\n",
      "Epoch 47/150\n",
      "623/623 [==============================] - 0s 94us/sample - loss: 0.5988 - accuracy: 0.7111\n",
      "Epoch 48/150\n",
      "623/623 [==============================] - 0s 79us/sample - loss: 0.5970 - accuracy: 0.7111\n",
      "Epoch 49/150\n",
      "623/623 [==============================] - 0s 130us/sample - loss: 0.5954 - accuracy: 0.7111\n",
      "Epoch 50/150\n",
      "623/623 [==============================] - 0s 166us/sample - loss: 0.5947 - accuracy: 0.7014\n",
      "Epoch 51/150\n",
      "623/623 [==============================] - 0s 112us/sample - loss: 0.5933 - accuracy: 0.7014\n",
      "Epoch 52/150\n",
      "623/623 [==============================] - 0s 96us/sample - loss: 0.5915 - accuracy: 0.7095\n",
      "Epoch 53/150\n",
      "623/623 [==============================] - 0s 106us/sample - loss: 0.5906 - accuracy: 0.7111\n",
      "Epoch 54/150\n",
      "623/623 [==============================] - 0s 116us/sample - loss: 0.5892 - accuracy: 0.7095\n",
      "Epoch 55/150\n",
      "623/623 [==============================] - 0s 103us/sample - loss: 0.5881 - accuracy: 0.7079\n",
      "Epoch 56/150\n",
      "623/623 [==============================] - 0s 98us/sample - loss: 0.5868 - accuracy: 0.7063\n",
      "Epoch 57/150\n",
      "623/623 [==============================] - 0s 79us/sample - loss: 0.5855 - accuracy: 0.7063\n",
      "Epoch 58/150\n",
      "623/623 [==============================] - 0s 132us/sample - loss: 0.5848 - accuracy: 0.7047\n",
      "Epoch 59/150\n",
      "623/623 [==============================] - 0s 171us/sample - loss: 0.5838 - accuracy: 0.7030\n",
      "Epoch 60/150\n",
      "623/623 [==============================] - 0s 105us/sample - loss: 0.5827 - accuracy: 0.7047\n",
      "Epoch 61/150\n",
      "623/623 [==============================] - 0s 94us/sample - loss: 0.5814 - accuracy: 0.7030\n",
      "Epoch 62/150\n",
      "623/623 [==============================] - 0s 76us/sample - loss: 0.5804 - accuracy: 0.7030\n",
      "Epoch 63/150\n",
      "623/623 [==============================] - 0s 121us/sample - loss: 0.5796 - accuracy: 0.7047\n",
      "Epoch 64/150\n",
      "623/623 [==============================] - 0s 227us/sample - loss: 0.5786 - accuracy: 0.6998\n",
      "Epoch 65/150\n",
      "623/623 [==============================] - 0s 142us/sample - loss: 0.5780 - accuracy: 0.6982\n",
      "Epoch 66/150\n",
      "623/623 [==============================] - 0s 94us/sample - loss: 0.5775 - accuracy: 0.6966\n",
      "Epoch 67/150\n",
      "623/623 [==============================] - 0s 93us/sample - loss: 0.5764 - accuracy: 0.6998\n",
      "Epoch 68/150\n",
      "623/623 [==============================] - 0s 114us/sample - loss: 0.5756 - accuracy: 0.7030\n",
      "Epoch 69/150\n",
      "623/623 [==============================] - 0s 85us/sample - loss: 0.5746 - accuracy: 0.7014\n",
      "Epoch 70/150\n",
      "623/623 [==============================] - 0s 80us/sample - loss: 0.5734 - accuracy: 0.6998\n",
      "Epoch 71/150\n",
      "623/623 [==============================] - 0s 88us/sample - loss: 0.5738 - accuracy: 0.6966\n",
      "Epoch 72/150\n",
      "623/623 [==============================] - 0s 109us/sample - loss: 0.5719 - accuracy: 0.6966\n",
      "Epoch 73/150\n",
      "623/623 [==============================] - 0s 89us/sample - loss: 0.5716 - accuracy: 0.7014\n",
      "Epoch 74/150\n",
      "623/623 [==============================] - 0s 87us/sample - loss: 0.5702 - accuracy: 0.6982\n",
      "Epoch 75/150\n",
      "623/623 [==============================] - 0s 100us/sample - loss: 0.5693 - accuracy: 0.6966\n",
      "Epoch 76/150\n",
      "623/623 [==============================] - 0s 97us/sample - loss: 0.5694 - accuracy: 0.6966\n",
      "Epoch 77/150\n",
      "623/623 [==============================] - 0s 93us/sample - loss: 0.5677 - accuracy: 0.6966\n",
      "Epoch 78/150\n",
      "623/623 [==============================] - 0s 76us/sample - loss: 0.5672 - accuracy: 0.6982\n",
      "Epoch 79/150\n",
      "623/623 [==============================] - 0s 87us/sample - loss: 0.5665 - accuracy: 0.6982\n",
      "Epoch 80/150\n",
      "623/623 [==============================] - 0s 75us/sample - loss: 0.5661 - accuracy: 0.6966\n",
      "Epoch 81/150\n",
      "623/623 [==============================] - 0s 80us/sample - loss: 0.5657 - accuracy: 0.7047\n",
      "Epoch 82/150\n",
      "623/623 [==============================] - 0s 88us/sample - loss: 0.5639 - accuracy: 0.7047\n",
      "Epoch 83/150\n",
      "623/623 [==============================] - 0s 96us/sample - loss: 0.5632 - accuracy: 0.7030\n",
      "Epoch 84/150\n",
      "623/623 [==============================] - 0s 82us/sample - loss: 0.5643 - accuracy: 0.6966\n",
      "Epoch 85/150\n",
      "623/623 [==============================] - 0s 76us/sample - loss: 0.5618 - accuracy: 0.7047\n",
      "Epoch 86/150\n",
      "623/623 [==============================] - 0s 76us/sample - loss: 0.5616 - accuracy: 0.7079\n",
      "Epoch 87/150\n",
      "623/623 [==============================] - 0s 77us/sample - loss: 0.5604 - accuracy: 0.7047\n",
      "Epoch 88/150\n",
      "623/623 [==============================] - 0s 78us/sample - loss: 0.5599 - accuracy: 0.7063\n",
      "Epoch 89/150\n",
      "623/623 [==============================] - 0s 73us/sample - loss: 0.5596 - accuracy: 0.7079\n",
      "Epoch 90/150\n",
      "623/623 [==============================] - 0s 183us/sample - loss: 0.5586 - accuracy: 0.7014\n",
      "Epoch 91/150\n",
      "623/623 [==============================] - 0s 130us/sample - loss: 0.5578 - accuracy: 0.7047\n",
      "Epoch 92/150\n",
      "623/623 [==============================] - 0s 129us/sample - loss: 0.5570 - accuracy: 0.7095\n",
      "Epoch 93/150\n",
      "623/623 [==============================] - 0s 79us/sample - loss: 0.5581 - accuracy: 0.7079\n",
      "Epoch 94/150\n",
      "623/623 [==============================] - 0s 72us/sample - loss: 0.5554 - accuracy: 0.6998\n",
      "Epoch 95/150\n",
      "623/623 [==============================] - 0s 74us/sample - loss: 0.5558 - accuracy: 0.7095\n",
      "Epoch 96/150\n",
      "623/623 [==============================] - 0s 74us/sample - loss: 0.5542 - accuracy: 0.7047\n",
      "Epoch 97/150\n",
      "623/623 [==============================] - 0s 85us/sample - loss: 0.5538 - accuracy: 0.7047\n",
      "Epoch 98/150\n",
      "623/623 [==============================] - 0s 87us/sample - loss: 0.5530 - accuracy: 0.7014\n",
      "Epoch 99/150\n",
      "623/623 [==============================] - 0s 78us/sample - loss: 0.5520 - accuracy: 0.7063\n",
      "Epoch 100/150\n",
      "623/623 [==============================] - 0s 74us/sample - loss: 0.5516 - accuracy: 0.6982\n",
      "Epoch 101/150\n",
      "623/623 [==============================] - 0s 83us/sample - loss: 0.5505 - accuracy: 0.6966\n",
      "Epoch 102/150\n",
      "623/623 [==============================] - 0s 78us/sample - loss: 0.5504 - accuracy: 0.7127\n",
      "Epoch 103/150\n",
      "623/623 [==============================] - 0s 80us/sample - loss: 0.5496 - accuracy: 0.7127\n",
      "Epoch 104/150\n",
      "623/623 [==============================] - 0s 81us/sample - loss: 0.5497 - accuracy: 0.6982\n",
      "Epoch 105/150\n",
      "623/623 [==============================] - 0s 79us/sample - loss: 0.5483 - accuracy: 0.7047\n",
      "Epoch 106/150\n",
      "623/623 [==============================] - 0s 77us/sample - loss: 0.5481 - accuracy: 0.7239\n",
      "Epoch 107/150\n",
      "623/623 [==============================] - 0s 78us/sample - loss: 0.5472 - accuracy: 0.7111\n",
      "Epoch 108/150\n",
      "623/623 [==============================] - 0s 84us/sample - loss: 0.5466 - accuracy: 0.7127\n",
      "Epoch 109/150\n",
      "623/623 [==============================] - 0s 76us/sample - loss: 0.5461 - accuracy: 0.7191\n",
      "Epoch 110/150\n",
      "623/623 [==============================] - 0s 76us/sample - loss: 0.5455 - accuracy: 0.7255\n",
      "Epoch 111/150\n",
      "623/623 [==============================] - 0s 78us/sample - loss: 0.5452 - accuracy: 0.7432\n",
      "Epoch 112/150\n",
      "623/623 [==============================] - 0s 81us/sample - loss: 0.5458 - accuracy: 0.7400\n",
      "Epoch 113/150\n",
      "623/623 [==============================] - 0s 87us/sample - loss: 0.5451 - accuracy: 0.7095\n",
      "Epoch 114/150\n",
      "623/623 [==============================] - 0s 90us/sample - loss: 0.5426 - accuracy: 0.7319\n",
      "Epoch 115/150\n",
      "623/623 [==============================] - 0s 76us/sample - loss: 0.5426 - accuracy: 0.7416\n",
      "Epoch 116/150\n",
      "623/623 [==============================] - 0s 76us/sample - loss: 0.5425 - accuracy: 0.7384\n",
      "Epoch 117/150\n",
      "623/623 [==============================] - 0s 97us/sample - loss: 0.5424 - accuracy: 0.7432\n",
      "Epoch 118/150\n",
      "623/623 [==============================] - 0s 84us/sample - loss: 0.5408 - accuracy: 0.7400\n",
      "Epoch 119/150\n",
      "623/623 [==============================] - 0s 89us/sample - loss: 0.5400 - accuracy: 0.7400\n",
      "Epoch 120/150\n",
      "623/623 [==============================] - 0s 74us/sample - loss: 0.5399 - accuracy: 0.7416\n",
      "Epoch 121/150\n",
      "623/623 [==============================] - 0s 83us/sample - loss: 0.5392 - accuracy: 0.7400\n",
      "Epoch 122/150\n",
      "623/623 [==============================] - 0s 85us/sample - loss: 0.5395 - accuracy: 0.7416\n",
      "Epoch 123/150\n",
      "623/623 [==============================] - 0s 102us/sample - loss: 0.5390 - accuracy: 0.7432\n",
      "Epoch 124/150\n",
      "623/623 [==============================] - 0s 129us/sample - loss: 0.5380 - accuracy: 0.7448\n",
      "Epoch 125/150\n",
      "623/623 [==============================] - 0s 136us/sample - loss: 0.5370 - accuracy: 0.7448\n",
      "Epoch 126/150\n",
      "623/623 [==============================] - 0s 137us/sample - loss: 0.5373 - accuracy: 0.7432\n",
      "Epoch 127/150\n",
      "623/623 [==============================] - 0s 85us/sample - loss: 0.5356 - accuracy: 0.7416\n",
      "Epoch 128/150\n",
      "623/623 [==============================] - 0s 88us/sample - loss: 0.5367 - accuracy: 0.7512\n",
      "Epoch 129/150\n",
      "623/623 [==============================] - 0s 89us/sample - loss: 0.5349 - accuracy: 0.7464\n",
      "Epoch 130/150\n",
      "623/623 [==============================] - 0s 109us/sample - loss: 0.5353 - accuracy: 0.7464\n",
      "Epoch 131/150\n",
      "623/623 [==============================] - 0s 114us/sample - loss: 0.5340 - accuracy: 0.7464\n",
      "Epoch 132/150\n",
      "623/623 [==============================] - 0s 105us/sample - loss: 0.5345 - accuracy: 0.7480\n",
      "Epoch 133/150\n",
      "623/623 [==============================] - 0s 108us/sample - loss: 0.5353 - accuracy: 0.7480\n",
      "Epoch 134/150\n",
      "623/623 [==============================] - 0s 112us/sample - loss: 0.5345 - accuracy: 0.7528\n",
      "Epoch 135/150\n",
      "623/623 [==============================] - 0s 147us/sample - loss: 0.5325 - accuracy: 0.7528\n",
      "Epoch 136/150\n",
      "623/623 [==============================] - 0s 138us/sample - loss: 0.5327 - accuracy: 0.7640\n",
      "Epoch 137/150\n",
      "623/623 [==============================] - 0s 110us/sample - loss: 0.5312 - accuracy: 0.7528\n",
      "Epoch 138/150\n",
      "623/623 [==============================] - 0s 104us/sample - loss: 0.5316 - accuracy: 0.7512\n",
      "Epoch 139/150\n",
      "623/623 [==============================] - 0s 99us/sample - loss: 0.5307 - accuracy: 0.7576\n",
      "Epoch 140/150\n",
      "623/623 [==============================] - 0s 101us/sample - loss: 0.5303 - accuracy: 0.7673\n",
      "Epoch 141/150\n",
      "623/623 [==============================] - 0s 90us/sample - loss: 0.5295 - accuracy: 0.7640\n",
      "Epoch 142/150\n",
      "623/623 [==============================] - 0s 102us/sample - loss: 0.5291 - accuracy: 0.7624\n",
      "Epoch 143/150\n",
      "623/623 [==============================] - 0s 98us/sample - loss: 0.5288 - accuracy: 0.7640\n",
      "Epoch 144/150\n",
      "623/623 [==============================] - 0s 81us/sample - loss: 0.5288 - accuracy: 0.7753\n",
      "Epoch 145/150\n",
      "623/623 [==============================] - 0s 83us/sample - loss: 0.5282 - accuracy: 0.7753\n",
      "Epoch 146/150\n",
      "623/623 [==============================] - 0s 104us/sample - loss: 0.5285 - accuracy: 0.7785\n",
      "Epoch 147/150\n",
      "623/623 [==============================] - 0s 97us/sample - loss: 0.5274 - accuracy: 0.7753\n",
      "Epoch 148/150\n",
      "623/623 [==============================] - 0s 90us/sample - loss: 0.5272 - accuracy: 0.7753\n",
      "Epoch 149/150\n",
      "623/623 [==============================] - 0s 99us/sample - loss: 0.5263 - accuracy: 0.7785\n",
      "Epoch 150/150\n",
      "623/623 [==============================] - 0s 90us/sample - loss: 0.5263 - accuracy: 0.7769\n"
     ]
    },
    {
     "data": {
      "text/plain": [
       "<tensorflow.python.keras.callbacks.History at 0x7fc189504110>"
      ]
     },
     "execution_count": 60,
     "metadata": {},
     "output_type": "execute_result"
    }
   ],
   "source": [
    "model_v1.fit(X_train.values, y_train.values, epochs=150, batch_size=32, verbose=1)"
   ]
  },
  {
   "cell_type": "code",
   "execution_count": 61,
   "metadata": {
    "ExecuteTime": {
     "end_time": "2020-05-17T09:06:31.383443Z",
     "start_time": "2020-05-17T09:06:31.256750Z"
    }
   },
   "outputs": [
    {
     "name": "stdout",
     "output_type": "stream",
     "text": [
      "\r",
      "268/1 [========================================================================================================================================================================================================================================================================================================================================================================================================================================================================================================================================================================================================================================================================================================================================================================================================================================================================================================================================================================================================================================================================================================================================================================================================================================================================================================================================================================================================================================================================================================================================================================================================================================================================================================================================================================================================================================================================================================================================================================================================================================================================================================================================================================================================================================================================================================================================================================================================================================================================================================================================================================================================================================================================================================================================================================================================================================================================================================================================================================================================================================================================================================================================================================================================================================================================================================================================================================================================================================================================================================================================================================================================================================================================================================================================================================================================================================================================================================================================================================================================================================================================================================================================================================================================================================================================================================================================================================================================================================================================================================================================================================================================================================================================================================================================================================================================================================================================================================================================================================================================================================================================================================================================================================================================================================================================================================================================================================================================================================================================================================================================================================================================================================================================================================================================================================================================================================================================================================================================================================================================================================================================================================================================================================================================================================================================================================================================================================================================================================================================================================================================================================================================================================================================================================================================================================================================================================================================================================================================================================================================================================================================================================================================================================================================================================================================================================================================================================================================================================================================================================================================================================================================================================================================================================================================================================================================================================================================================================================================================================================================================================================================================================================================================================================================================================================================================================================================================================] - 0s 311us/sample - loss: 0.5250 - accuracy: 0.7799\n"
     ]
    },
    {
     "data": {
      "text/plain": [
       "[0.49373324326614837, 0.7798507]"
      ]
     },
     "execution_count": 61,
     "metadata": {},
     "output_type": "execute_result"
    }
   ],
   "source": [
    "model_v1.evaluate(X_val.values, y_val.values, verbose=1)"
   ]
  },
  {
   "cell_type": "markdown",
   "metadata": {},
   "source": [
    "## Deep model"
   ]
  },
  {
   "cell_type": "code",
   "execution_count": 106,
   "metadata": {
    "ExecuteTime": {
     "end_time": "2020-05-17T10:36:13.285426Z",
     "start_time": "2020-05-17T10:36:13.233371Z"
    }
   },
   "outputs": [],
   "source": [
    "model_v2 = Sequential()\n",
    "model_v2.add(Dense(10, activation='relu', kernel_initializer='he_normal', input_shape = (n_features,)))\n",
    "model_v2.add(Dense(10, activation='relu', kernel_initializer='he_normal'))\n",
    "model_v2.add(Dense(1, activation='sigmoid'))"
   ]
  },
  {
   "cell_type": "code",
   "execution_count": 107,
   "metadata": {
    "ExecuteTime": {
     "end_time": "2020-05-17T10:36:13.671294Z",
     "start_time": "2020-05-17T10:36:13.632122Z"
    }
   },
   "outputs": [],
   "source": [
    "model_v2.compile(optimizer='adam', loss='binary_crossentropy', metrics=['accuracy'])"
   ]
  },
  {
   "cell_type": "code",
   "execution_count": 108,
   "metadata": {
    "ExecuteTime": {
     "end_time": "2020-05-17T10:36:25.083119Z",
     "start_time": "2020-05-17T10:36:13.983211Z"
    },
    "scrolled": true
   },
   "outputs": [
    {
     "name": "stdout",
     "output_type": "stream",
     "text": [
      "Train on 623 samples\n",
      "Epoch 1/150\n",
      "623/623 [==============================] - 0s 763us/sample - loss: 33.7215 - accuracy: 0.3949\n",
      "Epoch 2/150\n",
      "623/623 [==============================] - 0s 139us/sample - loss: 27.7905 - accuracy: 0.3949\n",
      "Epoch 3/150\n",
      "623/623 [==============================] - 0s 104us/sample - loss: 22.0666 - accuracy: 0.3949\n",
      "Epoch 4/150\n",
      "623/623 [==============================] - 0s 96us/sample - loss: 16.8076 - accuracy: 0.3949\n",
      "Epoch 5/150\n",
      "623/623 [==============================] - 0s 116us/sample - loss: 11.3191 - accuracy: 0.4045\n",
      "Epoch 6/150\n",
      "623/623 [==============================] - 0s 120us/sample - loss: 6.4883 - accuracy: 0.4045\n",
      "Epoch 7/150\n",
      "623/623 [==============================] - 0s 99us/sample - loss: 2.2874 - accuracy: 0.4703\n",
      "Epoch 8/150\n",
      "623/623 [==============================] - 0s 98us/sample - loss: 0.6704 - accuracy: 0.6533\n",
      "Epoch 9/150\n",
      "623/623 [==============================] - 0s 103us/sample - loss: 0.6452 - accuracy: 0.7143\n",
      "Epoch 10/150\n",
      "623/623 [==============================] - 0s 184us/sample - loss: 0.6204 - accuracy: 0.6918\n",
      "Epoch 11/150\n",
      "623/623 [==============================] - 0s 90us/sample - loss: 0.6134 - accuracy: 0.7014\n",
      "Epoch 12/150\n",
      "623/623 [==============================] - 0s 142us/sample - loss: 0.6206 - accuracy: 0.6966\n",
      "Epoch 13/150\n",
      "623/623 [==============================] - 0s 105us/sample - loss: 0.6151 - accuracy: 0.6966\n",
      "Epoch 14/150\n",
      "623/623 [==============================] - 0s 111us/sample - loss: 0.5948 - accuracy: 0.6982\n",
      "Epoch 15/150\n",
      "623/623 [==============================] - 0s 89us/sample - loss: 0.6045 - accuracy: 0.6934\n",
      "Epoch 16/150\n",
      "623/623 [==============================] - 0s 83us/sample - loss: 0.6011 - accuracy: 0.7063\n",
      "Epoch 17/150\n",
      "623/623 [==============================] - 0s 88us/sample - loss: 0.5947 - accuracy: 0.6950\n",
      "Epoch 18/150\n",
      "623/623 [==============================] - 0s 89us/sample - loss: 0.5913 - accuracy: 0.7030\n",
      "Epoch 19/150\n",
      "623/623 [==============================] - 0s 101us/sample - loss: 0.5934 - accuracy: 0.6998\n",
      "Epoch 20/150\n",
      "623/623 [==============================] - 0s 82us/sample - loss: 0.5889 - accuracy: 0.7079\n",
      "Epoch 21/150\n",
      "623/623 [==============================] - 0s 106us/sample - loss: 0.5895 - accuracy: 0.7014\n",
      "Epoch 22/150\n",
      "623/623 [==============================] - 0s 80us/sample - loss: 0.5872 - accuracy: 0.7143\n",
      "Epoch 23/150\n",
      "623/623 [==============================] - 0s 95us/sample - loss: 0.5859 - accuracy: 0.6998\n",
      "Epoch 24/150\n",
      "623/623 [==============================] - 0s 88us/sample - loss: 0.5811 - accuracy: 0.7127\n",
      "Epoch 25/150\n",
      "623/623 [==============================] - 0s 106us/sample - loss: 0.5817 - accuracy: 0.7079\n",
      "Epoch 26/150\n",
      "623/623 [==============================] - 0s 108us/sample - loss: 0.5821 - accuracy: 0.7207\n",
      "Epoch 27/150\n",
      "623/623 [==============================] - 0s 111us/sample - loss: 0.5913 - accuracy: 0.7127\n",
      "Epoch 28/150\n",
      "623/623 [==============================] - 0s 112us/sample - loss: 0.5842 - accuracy: 0.7271\n",
      "Epoch 29/150\n",
      "623/623 [==============================] - 0s 108us/sample - loss: 0.5925 - accuracy: 0.7111\n",
      "Epoch 30/150\n",
      "623/623 [==============================] - 0s 102us/sample - loss: 0.5610 - accuracy: 0.7271\n",
      "Epoch 31/150\n",
      "623/623 [==============================] - 0s 92us/sample - loss: 0.5786 - accuracy: 0.7207\n",
      "Epoch 32/150\n",
      "623/623 [==============================] - 0s 83us/sample - loss: 0.5994 - accuracy: 0.7384\n",
      "Epoch 33/150\n",
      "623/623 [==============================] - 0s 101us/sample - loss: 0.5736 - accuracy: 0.7063\n",
      "Epoch 34/150\n",
      "623/623 [==============================] - 0s 88us/sample - loss: 0.5727 - accuracy: 0.7512\n",
      "Epoch 35/150\n",
      "623/623 [==============================] - 0s 103us/sample - loss: 0.5794 - accuracy: 0.7239\n",
      "Epoch 36/150\n",
      "623/623 [==============================] - 0s 101us/sample - loss: 0.5643 - accuracy: 0.7239\n",
      "Epoch 37/150\n",
      "623/623 [==============================] - 0s 85us/sample - loss: 0.5714 - accuracy: 0.7287\n",
      "Epoch 38/150\n",
      "623/623 [==============================] - 0s 112us/sample - loss: 0.5742 - accuracy: 0.7512\n",
      "Epoch 39/150\n",
      "623/623 [==============================] - 0s 102us/sample - loss: 0.5783 - accuracy: 0.7191\n",
      "Epoch 40/150\n",
      "623/623 [==============================] - 0s 104us/sample - loss: 0.5654 - accuracy: 0.7255\n",
      "Epoch 41/150\n",
      "623/623 [==============================] - 0s 111us/sample - loss: 0.5697 - accuracy: 0.7496\n",
      "Epoch 42/150\n",
      "623/623 [==============================] - 0s 99us/sample - loss: 0.5575 - accuracy: 0.7448\n",
      "Epoch 43/150\n",
      "623/623 [==============================] - 0s 110us/sample - loss: 0.5625 - accuracy: 0.7480\n",
      "Epoch 44/150\n",
      "623/623 [==============================] - 0s 104us/sample - loss: 0.5604 - accuracy: 0.7512\n",
      "Epoch 45/150\n",
      "623/623 [==============================] - 0s 109us/sample - loss: 0.5635 - accuracy: 0.7448\n",
      "Epoch 46/150\n",
      "623/623 [==============================] - 0s 180us/sample - loss: 0.5705 - accuracy: 0.7496\n",
      "Epoch 47/150\n",
      "623/623 [==============================] - 0s 154us/sample - loss: 0.5566 - accuracy: 0.7528\n",
      "Epoch 48/150\n",
      "623/623 [==============================] - 0s 113us/sample - loss: 0.5777 - accuracy: 0.7223\n",
      "Epoch 49/150\n",
      "623/623 [==============================] - 0s 93us/sample - loss: 0.5711 - accuracy: 0.7496\n",
      "Epoch 50/150\n",
      "623/623 [==============================] - 0s 89us/sample - loss: 0.5564 - accuracy: 0.7576\n",
      "Epoch 51/150\n",
      "623/623 [==============================] - 0s 125us/sample - loss: 0.5692 - accuracy: 0.7384\n",
      "Epoch 52/150\n",
      "623/623 [==============================] - 0s 166us/sample - loss: 0.5568 - accuracy: 0.7512\n",
      "Epoch 53/150\n",
      "623/623 [==============================] - 0s 98us/sample - loss: 0.5461 - accuracy: 0.7592\n",
      "Epoch 54/150\n",
      "623/623 [==============================] - 0s 105us/sample - loss: 0.5540 - accuracy: 0.7528\n",
      "Epoch 55/150\n",
      "623/623 [==============================] - 0s 81us/sample - loss: 0.5541 - accuracy: 0.7416\n",
      "Epoch 56/150\n",
      "623/623 [==============================] - 0s 104us/sample - loss: 0.5641 - accuracy: 0.7464\n",
      "Epoch 57/150\n",
      "623/623 [==============================] - 0s 99us/sample - loss: 0.5638 - accuracy: 0.7368\n",
      "Epoch 58/150\n",
      "623/623 [==============================] - 0s 117us/sample - loss: 0.5447 - accuracy: 0.7592\n",
      "Epoch 59/150\n",
      "623/623 [==============================] - 0s 128us/sample - loss: 0.5396 - accuracy: 0.7592\n",
      "Epoch 60/150\n",
      "623/623 [==============================] - 0s 131us/sample - loss: 0.5485 - accuracy: 0.7576\n",
      "Epoch 61/150\n",
      "623/623 [==============================] - 0s 109us/sample - loss: 0.5530 - accuracy: 0.7624\n",
      "Epoch 62/150\n",
      "623/623 [==============================] - 0s 102us/sample - loss: 0.5384 - accuracy: 0.7576\n",
      "Epoch 63/150\n",
      "623/623 [==============================] - 0s 100us/sample - loss: 0.5435 - accuracy: 0.7608\n",
      "Epoch 64/150\n",
      "623/623 [==============================] - 0s 85us/sample - loss: 0.5492 - accuracy: 0.7480\n",
      "Epoch 65/150\n",
      "623/623 [==============================] - 0s 130us/sample - loss: 0.5485 - accuracy: 0.7576\n",
      "Epoch 66/150\n",
      "623/623 [==============================] - 0s 132us/sample - loss: 0.5431 - accuracy: 0.7608\n",
      "Epoch 67/150\n",
      "623/623 [==============================] - 0s 119us/sample - loss: 0.5531 - accuracy: 0.7512\n",
      "Epoch 68/150\n",
      "623/623 [==============================] - 0s 85us/sample - loss: 0.5351 - accuracy: 0.7608\n",
      "Epoch 69/150\n",
      "623/623 [==============================] - 0s 108us/sample - loss: 0.5375 - accuracy: 0.7592\n",
      "Epoch 70/150\n",
      "623/623 [==============================] - 0s 150us/sample - loss: 0.5392 - accuracy: 0.7608\n",
      "Epoch 71/150\n",
      "623/623 [==============================] - 0s 120us/sample - loss: 0.5452 - accuracy: 0.7271\n",
      "Epoch 72/150\n",
      "623/623 [==============================] - 0s 117us/sample - loss: 0.5413 - accuracy: 0.7592\n",
      "Epoch 73/150\n",
      "623/623 [==============================] - 0s 93us/sample - loss: 0.5395 - accuracy: 0.7576\n",
      "Epoch 74/150\n",
      "623/623 [==============================] - 0s 101us/sample - loss: 0.5232 - accuracy: 0.7592\n",
      "Epoch 75/150\n",
      "623/623 [==============================] - 0s 109us/sample - loss: 0.5254 - accuracy: 0.7624\n",
      "Epoch 76/150\n",
      "623/623 [==============================] - 0s 121us/sample - loss: 0.5247 - accuracy: 0.7608\n",
      "Epoch 77/150\n",
      "623/623 [==============================] - 0s 214us/sample - loss: 0.5255 - accuracy: 0.7624\n",
      "Epoch 78/150\n",
      "623/623 [==============================] - 0s 132us/sample - loss: 0.5238 - accuracy: 0.7608\n",
      "Epoch 79/150\n",
      "623/623 [==============================] - 0s 110us/sample - loss: 0.5230 - accuracy: 0.7689\n",
      "Epoch 80/150\n",
      "623/623 [==============================] - 0s 84us/sample - loss: 0.5345 - accuracy: 0.7592\n",
      "Epoch 81/150\n",
      "623/623 [==============================] - 0s 82us/sample - loss: 0.5171 - accuracy: 0.7560\n",
      "Epoch 82/150\n",
      "623/623 [==============================] - 0s 273us/sample - loss: 0.5162 - accuracy: 0.7608\n",
      "Epoch 83/150\n",
      "623/623 [==============================] - 0s 146us/sample - loss: 0.5137 - accuracy: 0.7705\n",
      "Epoch 84/150\n",
      "623/623 [==============================] - 0s 98us/sample - loss: 0.5203 - accuracy: 0.7624\n",
      "Epoch 85/150\n",
      "623/623 [==============================] - 0s 83us/sample - loss: 0.5150 - accuracy: 0.7640\n",
      "Epoch 86/150\n",
      "623/623 [==============================] - 0s 83us/sample - loss: 0.5267 - accuracy: 0.7592\n",
      "Epoch 87/150\n",
      "623/623 [==============================] - 0s 149us/sample - loss: 0.5216 - accuracy: 0.7657\n",
      "Epoch 88/150\n",
      "623/623 [==============================] - 0s 106us/sample - loss: 0.5173 - accuracy: 0.7592\n",
      "Epoch 89/150\n",
      "623/623 [==============================] - 0s 99us/sample - loss: 0.5152 - accuracy: 0.7624\n",
      "Epoch 90/150\n",
      "623/623 [==============================] - 0s 105us/sample - loss: 0.5208 - accuracy: 0.7640\n",
      "Epoch 91/150\n",
      "623/623 [==============================] - 0s 100us/sample - loss: 0.5166 - accuracy: 0.7673\n",
      "Epoch 92/150\n",
      "623/623 [==============================] - 0s 91us/sample - loss: 0.5202 - accuracy: 0.7624\n",
      "Epoch 93/150\n",
      "623/623 [==============================] - 0s 133us/sample - loss: 0.5201 - accuracy: 0.7657\n",
      "Epoch 94/150\n",
      "623/623 [==============================] - 0s 120us/sample - loss: 0.5103 - accuracy: 0.7689\n",
      "Epoch 95/150\n",
      "623/623 [==============================] - 0s 114us/sample - loss: 0.5154 - accuracy: 0.7689\n",
      "Epoch 96/150\n",
      "623/623 [==============================] - 0s 102us/sample - loss: 0.5184 - accuracy: 0.7689\n",
      "Epoch 97/150\n",
      "623/623 [==============================] - 0s 105us/sample - loss: 0.5059 - accuracy: 0.7705\n",
      "Epoch 98/150\n",
      "623/623 [==============================] - 0s 100us/sample - loss: 0.5154 - accuracy: 0.7657\n",
      "Epoch 99/150\n",
      "623/623 [==============================] - 0s 84us/sample - loss: 0.5117 - accuracy: 0.7817\n",
      "Epoch 100/150\n",
      "623/623 [==============================] - 0s 150us/sample - loss: 0.5125 - accuracy: 0.7673\n",
      "Epoch 101/150\n",
      "623/623 [==============================] - 0s 153us/sample - loss: 0.5237 - accuracy: 0.7624\n",
      "Epoch 102/150\n",
      "623/623 [==============================] - 0s 112us/sample - loss: 0.5072 - accuracy: 0.7657\n",
      "Epoch 103/150\n",
      "623/623 [==============================] - 0s 93us/sample - loss: 0.5000 - accuracy: 0.7673\n",
      "Epoch 104/150\n",
      "623/623 [==============================] - 0s 105us/sample - loss: 0.5150 - accuracy: 0.7769\n",
      "Epoch 105/150\n",
      "623/623 [==============================] - 0s 102us/sample - loss: 0.5229 - accuracy: 0.7705\n",
      "Epoch 106/150\n",
      "623/623 [==============================] - 0s 138us/sample - loss: 0.5560 - accuracy: 0.7416\n",
      "Epoch 107/150\n",
      "623/623 [==============================] - 0s 124us/sample - loss: 0.5356 - accuracy: 0.7689\n",
      "Epoch 108/150\n",
      "623/623 [==============================] - 0s 108us/sample - loss: 0.5140 - accuracy: 0.7624\n",
      "Epoch 109/150\n",
      "623/623 [==============================] - 0s 105us/sample - loss: 0.5057 - accuracy: 0.7705\n",
      "Epoch 110/150\n",
      "623/623 [==============================] - 0s 102us/sample - loss: 0.5019 - accuracy: 0.7753\n",
      "Epoch 111/150\n",
      "623/623 [==============================] - 0s 98us/sample - loss: 0.5033 - accuracy: 0.7849\n",
      "Epoch 112/150\n",
      "623/623 [==============================] - 0s 202us/sample - loss: 0.5146 - accuracy: 0.7769\n",
      "Epoch 113/150\n",
      "623/623 [==============================] - 0s 113us/sample - loss: 0.5104 - accuracy: 0.7721\n",
      "Epoch 114/150\n",
      "623/623 [==============================] - 0s 95us/sample - loss: 0.5020 - accuracy: 0.7817\n",
      "Epoch 115/150\n",
      "623/623 [==============================] - 0s 127us/sample - loss: 0.5084 - accuracy: 0.7801\n",
      "Epoch 116/150\n",
      "623/623 [==============================] - 0s 129us/sample - loss: 0.5080 - accuracy: 0.7640\n",
      "Epoch 117/150\n",
      "623/623 [==============================] - 0s 156us/sample - loss: 0.4987 - accuracy: 0.7817\n",
      "Epoch 118/150\n",
      "623/623 [==============================] - 0s 115us/sample - loss: 0.5053 - accuracy: 0.7801\n",
      "Epoch 119/150\n",
      "623/623 [==============================] - 0s 108us/sample - loss: 0.5058 - accuracy: 0.7785\n",
      "Epoch 120/150\n",
      "623/623 [==============================] - 0s 103us/sample - loss: 0.5077 - accuracy: 0.7721\n",
      "Epoch 121/150\n",
      "623/623 [==============================] - 0s 103us/sample - loss: 0.4957 - accuracy: 0.7801\n",
      "Epoch 122/150\n",
      "623/623 [==============================] - 0s 90us/sample - loss: 0.5199 - accuracy: 0.7865\n",
      "Epoch 123/150\n",
      "623/623 [==============================] - 0s 120us/sample - loss: 0.4941 - accuracy: 0.7817\n",
      "Epoch 124/150\n",
      "623/623 [==============================] - 0s 167us/sample - loss: 0.4993 - accuracy: 0.7865\n",
      "Epoch 125/150\n",
      "623/623 [==============================] - 0s 96us/sample - loss: 0.4990 - accuracy: 0.7865\n",
      "Epoch 126/150\n",
      "623/623 [==============================] - 0s 96us/sample - loss: 0.5008 - accuracy: 0.7817\n",
      "Epoch 127/150\n",
      "623/623 [==============================] - 0s 85us/sample - loss: 0.4996 - accuracy: 0.7833\n",
      "Epoch 128/150\n",
      "623/623 [==============================] - 0s 85us/sample - loss: 0.4972 - accuracy: 0.7801\n",
      "Epoch 129/150\n",
      "623/623 [==============================] - 0s 105us/sample - loss: 0.5273 - accuracy: 0.7689\n",
      "Epoch 130/150\n",
      "623/623 [==============================] - 0s 159us/sample - loss: 0.4967 - accuracy: 0.7833\n",
      "Epoch 131/150\n",
      "623/623 [==============================] - 0s 106us/sample - loss: 0.4915 - accuracy: 0.7833\n",
      "Epoch 132/150\n",
      "623/623 [==============================] - 0s 103us/sample - loss: 0.4916 - accuracy: 0.7833\n",
      "Epoch 133/150\n",
      "623/623 [==============================] - 0s 85us/sample - loss: 0.5027 - accuracy: 0.7833\n",
      "Epoch 134/150\n",
      "623/623 [==============================] - 0s 107us/sample - loss: 0.5005 - accuracy: 0.7801\n",
      "Epoch 135/150\n",
      "623/623 [==============================] - 0s 105us/sample - loss: 0.4970 - accuracy: 0.7817\n",
      "Epoch 136/150\n",
      "623/623 [==============================] - 0s 138us/sample - loss: 0.5015 - accuracy: 0.7801\n",
      "Epoch 137/150\n",
      "623/623 [==============================] - 0s 127us/sample - loss: 0.4964 - accuracy: 0.7817\n",
      "Epoch 138/150\n",
      "623/623 [==============================] - 0s 106us/sample - loss: 0.4906 - accuracy: 0.7849\n",
      "Epoch 139/150\n",
      "623/623 [==============================] - 0s 99us/sample - loss: 0.4936 - accuracy: 0.7785\n",
      "Epoch 140/150\n",
      "623/623 [==============================] - 0s 85us/sample - loss: 0.4922 - accuracy: 0.7817\n",
      "Epoch 141/150\n",
      "623/623 [==============================] - 0s 100us/sample - loss: 0.4993 - accuracy: 0.7849\n",
      "Epoch 142/150\n",
      "623/623 [==============================] - 0s 97us/sample - loss: 0.4943 - accuracy: 0.7817\n",
      "Epoch 143/150\n",
      "623/623 [==============================] - 0s 125us/sample - loss: 0.5100 - accuracy: 0.7737\n",
      "Epoch 144/150\n",
      "623/623 [==============================] - 0s 160us/sample - loss: 0.4917 - accuracy: 0.7785\n",
      "Epoch 145/150\n",
      "623/623 [==============================] - 0s 87us/sample - loss: 0.4897 - accuracy: 0.7833\n",
      "Epoch 146/150\n",
      "623/623 [==============================] - 0s 83us/sample - loss: 0.4896 - accuracy: 0.7833\n",
      "Epoch 147/150\n",
      "623/623 [==============================] - 0s 102us/sample - loss: 0.4906 - accuracy: 0.7817\n",
      "Epoch 148/150\n",
      "623/623 [==============================] - 0s 99us/sample - loss: 0.4925 - accuracy: 0.7801\n",
      "Epoch 149/150\n",
      "623/623 [==============================] - 0s 203us/sample - loss: 0.4902 - accuracy: 0.7849\n",
      "Epoch 150/150\n",
      "623/623 [==============================] - 0s 191us/sample - loss: 0.4878 - accuracy: 0.7817\n"
     ]
    },
    {
     "data": {
      "text/plain": [
       "<tensorflow.python.keras.callbacks.History at 0x7fbeebb9f4d0>"
      ]
     },
     "execution_count": 108,
     "metadata": {},
     "output_type": "execute_result"
    }
   ],
   "source": [
    "model_v2.fit(X_train.values, y_train.values, epochs=150, batch_size=32, verbose=1)"
   ]
  },
  {
   "cell_type": "code",
   "execution_count": 69,
   "metadata": {
    "ExecuteTime": {
     "end_time": "2020-05-17T09:08:29.324507Z",
     "start_time": "2020-05-17T09:08:29.182663Z"
    }
   },
   "outputs": [
    {
     "name": "stdout",
     "output_type": "stream",
     "text": [
      "\r",
      "268/1 [========================================================================================================================================================================================================================================================================================================================================================================================================================================================================================================================================================================================================================================================================================================================================================================================================================================================================================================================================================================================================================================================================================================================================================================================================================================================================================================================================================================================================================================================================================================================================================================================================================================================================================================================================================================================================================================================================================================================================================================================================================================================================================================================================================================================================================================================================================================================================================================================================================================================================================================================================================================================================================================================================================================================================================================================================================================================================================================================================================================================================================================================================================================================================================================================================================================================================================================================================================================================================================================================================================================================================================================================================================================================================================================================================================================================================================================================================================================================================================================================================================================================================================================================================================================================================================================================================================================================================================================================================================================================================================================================================================================================================================================================================================================================================================================================================================================================================================================================================================================================================================================================================================================================================================================================================================================================================================================================================================================================================================================================================================================================================================================================================================================================================================================================================================================================================================================================================================================================================================================================================================================================================================================================================================================================================================================================================================================================================================================================================================================================================================================================================================================================================================================================================================================================================================================================================================================================================================================================================================================================================================================================================================================================================================================================================================================================================================================================================================================================================================================================================================================================================================================================================================================================================================================================================================================================================================================================================================================================================================================================================================================================================================================================================================================================================================================================================================================================================================================] - 0s 386us/sample - loss: 0.4677 - accuracy: 0.7873\n"
     ]
    },
    {
     "data": {
      "text/plain": [
       "[0.45188363808304516, 0.78731346]"
      ]
     },
     "execution_count": 69,
     "metadata": {},
     "output_type": "execute_result"
    }
   ],
   "source": [
    "model_v2.evaluate(X_val.values, y_val.values, verbose=1)"
   ]
  },
  {
   "cell_type": "markdown",
   "metadata": {},
   "source": [
    "# Test Data"
   ]
  },
  {
   "cell_type": "code",
   "execution_count": 71,
   "metadata": {
    "ExecuteTime": {
     "end_time": "2020-05-17T09:10:39.926684Z",
     "start_time": "2020-05-17T09:10:39.911293Z"
    }
   },
   "outputs": [
    {
     "data": {
      "text/html": [
       "<div>\n",
       "<style scoped>\n",
       "    .dataframe tbody tr th:only-of-type {\n",
       "        vertical-align: middle;\n",
       "    }\n",
       "\n",
       "    .dataframe tbody tr th {\n",
       "        vertical-align: top;\n",
       "    }\n",
       "\n",
       "    .dataframe thead th {\n",
       "        text-align: right;\n",
       "    }\n",
       "</style>\n",
       "<table border=\"1\" class=\"dataframe\">\n",
       "  <thead>\n",
       "    <tr style=\"text-align: right;\">\n",
       "      <th></th>\n",
       "      <th>PassengerId</th>\n",
       "      <th>Pclass</th>\n",
       "      <th>Name</th>\n",
       "      <th>Sex</th>\n",
       "      <th>Age</th>\n",
       "      <th>SibSp</th>\n",
       "      <th>Parch</th>\n",
       "      <th>Ticket</th>\n",
       "      <th>Fare</th>\n",
       "      <th>Cabin</th>\n",
       "      <th>Embarked</th>\n",
       "    </tr>\n",
       "  </thead>\n",
       "  <tbody>\n",
       "    <tr>\n",
       "      <th>0</th>\n",
       "      <td>892</td>\n",
       "      <td>3</td>\n",
       "      <td>Kelly, Mr. James</td>\n",
       "      <td>male</td>\n",
       "      <td>34.5</td>\n",
       "      <td>0</td>\n",
       "      <td>0</td>\n",
       "      <td>330911</td>\n",
       "      <td>7.8292</td>\n",
       "      <td>NaN</td>\n",
       "      <td>Q</td>\n",
       "    </tr>\n",
       "    <tr>\n",
       "      <th>1</th>\n",
       "      <td>893</td>\n",
       "      <td>3</td>\n",
       "      <td>Wilkes, Mrs. James (Ellen Needs)</td>\n",
       "      <td>female</td>\n",
       "      <td>47.0</td>\n",
       "      <td>1</td>\n",
       "      <td>0</td>\n",
       "      <td>363272</td>\n",
       "      <td>7.0000</td>\n",
       "      <td>NaN</td>\n",
       "      <td>S</td>\n",
       "    </tr>\n",
       "    <tr>\n",
       "      <th>2</th>\n",
       "      <td>894</td>\n",
       "      <td>2</td>\n",
       "      <td>Myles, Mr. Thomas Francis</td>\n",
       "      <td>male</td>\n",
       "      <td>62.0</td>\n",
       "      <td>0</td>\n",
       "      <td>0</td>\n",
       "      <td>240276</td>\n",
       "      <td>9.6875</td>\n",
       "      <td>NaN</td>\n",
       "      <td>Q</td>\n",
       "    </tr>\n",
       "    <tr>\n",
       "      <th>3</th>\n",
       "      <td>895</td>\n",
       "      <td>3</td>\n",
       "      <td>Wirz, Mr. Albert</td>\n",
       "      <td>male</td>\n",
       "      <td>27.0</td>\n",
       "      <td>0</td>\n",
       "      <td>0</td>\n",
       "      <td>315154</td>\n",
       "      <td>8.6625</td>\n",
       "      <td>NaN</td>\n",
       "      <td>S</td>\n",
       "    </tr>\n",
       "    <tr>\n",
       "      <th>4</th>\n",
       "      <td>896</td>\n",
       "      <td>3</td>\n",
       "      <td>Hirvonen, Mrs. Alexander (Helga E Lindqvist)</td>\n",
       "      <td>female</td>\n",
       "      <td>22.0</td>\n",
       "      <td>1</td>\n",
       "      <td>1</td>\n",
       "      <td>3101298</td>\n",
       "      <td>12.2875</td>\n",
       "      <td>NaN</td>\n",
       "      <td>S</td>\n",
       "    </tr>\n",
       "  </tbody>\n",
       "</table>\n",
       "</div>"
      ],
      "text/plain": [
       "   PassengerId  Pclass                                          Name     Sex  \\\n",
       "0          892       3                              Kelly, Mr. James    male   \n",
       "1          893       3              Wilkes, Mrs. James (Ellen Needs)  female   \n",
       "2          894       2                     Myles, Mr. Thomas Francis    male   \n",
       "3          895       3                              Wirz, Mr. Albert    male   \n",
       "4          896       3  Hirvonen, Mrs. Alexander (Helga E Lindqvist)  female   \n",
       "\n",
       "    Age  SibSp  Parch   Ticket     Fare Cabin Embarked  \n",
       "0  34.5      0      0   330911   7.8292   NaN        Q  \n",
       "1  47.0      1      0   363272   7.0000   NaN        S  \n",
       "2  62.0      0      0   240276   9.6875   NaN        Q  \n",
       "3  27.0      0      0   315154   8.6625   NaN        S  \n",
       "4  22.0      1      1  3101298  12.2875   NaN        S  "
      ]
     },
     "execution_count": 71,
     "metadata": {},
     "output_type": "execute_result"
    }
   ],
   "source": [
    "test_path = '../data/titanic_data/test.csv'\n",
    "test_data = pd.read_csv(test_path)\n",
    "test_data.head()"
   ]
  },
  {
   "cell_type": "markdown",
   "metadata": {},
   "source": [
    "## Test Data preprocessing"
   ]
  },
  {
   "cell_type": "code",
   "execution_count": 72,
   "metadata": {
    "ExecuteTime": {
     "end_time": "2020-05-17T10:05:22.630258Z",
     "start_time": "2020-05-17T10:05:22.610349Z"
    }
   },
   "outputs": [
    {
     "data": {
      "text/html": [
       "<div>\n",
       "<style scoped>\n",
       "    .dataframe tbody tr th:only-of-type {\n",
       "        vertical-align: middle;\n",
       "    }\n",
       "\n",
       "    .dataframe tbody tr th {\n",
       "        vertical-align: top;\n",
       "    }\n",
       "\n",
       "    .dataframe thead th {\n",
       "        text-align: right;\n",
       "    }\n",
       "</style>\n",
       "<table border=\"1\" class=\"dataframe\">\n",
       "  <thead>\n",
       "    <tr style=\"text-align: right;\">\n",
       "      <th></th>\n",
       "      <th>PassengerId</th>\n",
       "      <th>Pclass</th>\n",
       "      <th>Name</th>\n",
       "      <th>Sex</th>\n",
       "      <th>Age</th>\n",
       "      <th>SibSp</th>\n",
       "      <th>Parch</th>\n",
       "      <th>Ticket</th>\n",
       "      <th>Fare</th>\n",
       "      <th>Cabin</th>\n",
       "      <th>Embarked</th>\n",
       "      <th>Sex_category</th>\n",
       "      <th>Embarked_category</th>\n",
       "    </tr>\n",
       "  </thead>\n",
       "  <tbody>\n",
       "    <tr>\n",
       "      <th>0</th>\n",
       "      <td>892</td>\n",
       "      <td>3</td>\n",
       "      <td>Kelly, Mr. James</td>\n",
       "      <td>male</td>\n",
       "      <td>34.5</td>\n",
       "      <td>0</td>\n",
       "      <td>0</td>\n",
       "      <td>330911</td>\n",
       "      <td>7.8292</td>\n",
       "      <td>NaN</td>\n",
       "      <td>Q</td>\n",
       "      <td>1</td>\n",
       "      <td>1</td>\n",
       "    </tr>\n",
       "    <tr>\n",
       "      <th>1</th>\n",
       "      <td>893</td>\n",
       "      <td>3</td>\n",
       "      <td>Wilkes, Mrs. James (Ellen Needs)</td>\n",
       "      <td>female</td>\n",
       "      <td>47.0</td>\n",
       "      <td>1</td>\n",
       "      <td>0</td>\n",
       "      <td>363272</td>\n",
       "      <td>7.0000</td>\n",
       "      <td>NaN</td>\n",
       "      <td>S</td>\n",
       "      <td>0</td>\n",
       "      <td>2</td>\n",
       "    </tr>\n",
       "    <tr>\n",
       "      <th>2</th>\n",
       "      <td>894</td>\n",
       "      <td>2</td>\n",
       "      <td>Myles, Mr. Thomas Francis</td>\n",
       "      <td>male</td>\n",
       "      <td>62.0</td>\n",
       "      <td>0</td>\n",
       "      <td>0</td>\n",
       "      <td>240276</td>\n",
       "      <td>9.6875</td>\n",
       "      <td>NaN</td>\n",
       "      <td>Q</td>\n",
       "      <td>1</td>\n",
       "      <td>1</td>\n",
       "    </tr>\n",
       "    <tr>\n",
       "      <th>3</th>\n",
       "      <td>895</td>\n",
       "      <td>3</td>\n",
       "      <td>Wirz, Mr. Albert</td>\n",
       "      <td>male</td>\n",
       "      <td>27.0</td>\n",
       "      <td>0</td>\n",
       "      <td>0</td>\n",
       "      <td>315154</td>\n",
       "      <td>8.6625</td>\n",
       "      <td>NaN</td>\n",
       "      <td>S</td>\n",
       "      <td>1</td>\n",
       "      <td>2</td>\n",
       "    </tr>\n",
       "    <tr>\n",
       "      <th>4</th>\n",
       "      <td>896</td>\n",
       "      <td>3</td>\n",
       "      <td>Hirvonen, Mrs. Alexander (Helga E Lindqvist)</td>\n",
       "      <td>female</td>\n",
       "      <td>22.0</td>\n",
       "      <td>1</td>\n",
       "      <td>1</td>\n",
       "      <td>3101298</td>\n",
       "      <td>12.2875</td>\n",
       "      <td>NaN</td>\n",
       "      <td>S</td>\n",
       "      <td>0</td>\n",
       "      <td>2</td>\n",
       "    </tr>\n",
       "  </tbody>\n",
       "</table>\n",
       "</div>"
      ],
      "text/plain": [
       "   PassengerId  Pclass                                          Name     Sex  \\\n",
       "0          892       3                              Kelly, Mr. James    male   \n",
       "1          893       3              Wilkes, Mrs. James (Ellen Needs)  female   \n",
       "2          894       2                     Myles, Mr. Thomas Francis    male   \n",
       "3          895       3                              Wirz, Mr. Albert    male   \n",
       "4          896       3  Hirvonen, Mrs. Alexander (Helga E Lindqvist)  female   \n",
       "\n",
       "    Age  SibSp  Parch   Ticket     Fare Cabin Embarked  Sex_category  \\\n",
       "0  34.5      0      0   330911   7.8292   NaN        Q             1   \n",
       "1  47.0      1      0   363272   7.0000   NaN        S             0   \n",
       "2  62.0      0      0   240276   9.6875   NaN        Q             1   \n",
       "3  27.0      0      0   315154   8.6625   NaN        S             1   \n",
       "4  22.0      1      1  3101298  12.2875   NaN        S             0   \n",
       "\n",
       "   Embarked_category  \n",
       "0                  1  \n",
       "1                  2  \n",
       "2                  1  \n",
       "3                  2  \n",
       "4                  2  "
      ]
     },
     "execution_count": 72,
     "metadata": {},
     "output_type": "execute_result"
    }
   ],
   "source": [
    "for col in category_columns:\n",
    "    test_data[col] = test_data[col].astype('category')\n",
    "    test_data[col+'_category'] = test_data[col].cat.codes\n",
    "test_data.head()"
   ]
  },
  {
   "cell_type": "code",
   "execution_count": 74,
   "metadata": {
    "ExecuteTime": {
     "end_time": "2020-05-17T10:08:27.586227Z",
     "start_time": "2020-05-17T10:08:27.582198Z"
    }
   },
   "outputs": [],
   "source": [
    "X_test = test_data[columns].copy()"
   ]
  },
  {
   "cell_type": "code",
   "execution_count": 109,
   "metadata": {
    "ExecuteTime": {
     "end_time": "2020-05-17T10:41:31.925118Z",
     "start_time": "2020-05-17T10:41:31.825158Z"
    }
   },
   "outputs": [],
   "source": [
    "y_test = model_v2.predict_classes(X_test.values)"
   ]
  },
  {
   "cell_type": "code",
   "execution_count": 110,
   "metadata": {
    "ExecuteTime": {
     "end_time": "2020-05-17T10:41:33.124344Z",
     "start_time": "2020-05-17T10:41:33.119867Z"
    }
   },
   "outputs": [
    {
     "data": {
      "text/plain": [
       "(418, 1)"
      ]
     },
     "execution_count": 110,
     "metadata": {},
     "output_type": "execute_result"
    }
   ],
   "source": [
    "y_test.shape"
   ]
  },
  {
   "cell_type": "code",
   "execution_count": 111,
   "metadata": {
    "ExecuteTime": {
     "end_time": "2020-05-17T10:41:35.259274Z",
     "start_time": "2020-05-17T10:41:35.254417Z"
    }
   },
   "outputs": [],
   "source": [
    "prediction = pd.DataFrame(test_data['PassengerId'].copy())\n",
    "prediction['Survived'] = y_test\n",
    "prediction = prediction.set_index('PassengerId')"
   ]
  },
  {
   "cell_type": "code",
   "execution_count": 112,
   "metadata": {
    "ExecuteTime": {
     "end_time": "2020-05-17T10:41:38.200509Z",
     "start_time": "2020-05-17T10:41:38.193074Z"
    }
   },
   "outputs": [
    {
     "data": {
      "text/html": [
       "<div>\n",
       "<style scoped>\n",
       "    .dataframe tbody tr th:only-of-type {\n",
       "        vertical-align: middle;\n",
       "    }\n",
       "\n",
       "    .dataframe tbody tr th {\n",
       "        vertical-align: top;\n",
       "    }\n",
       "\n",
       "    .dataframe thead th {\n",
       "        text-align: right;\n",
       "    }\n",
       "</style>\n",
       "<table border=\"1\" class=\"dataframe\">\n",
       "  <thead>\n",
       "    <tr style=\"text-align: right;\">\n",
       "      <th></th>\n",
       "      <th>Survived</th>\n",
       "    </tr>\n",
       "    <tr>\n",
       "      <th>PassengerId</th>\n",
       "      <th></th>\n",
       "    </tr>\n",
       "  </thead>\n",
       "  <tbody>\n",
       "    <tr>\n",
       "      <th>892</th>\n",
       "      <td>0</td>\n",
       "    </tr>\n",
       "    <tr>\n",
       "      <th>893</th>\n",
       "      <td>0</td>\n",
       "    </tr>\n",
       "    <tr>\n",
       "      <th>894</th>\n",
       "      <td>0</td>\n",
       "    </tr>\n",
       "    <tr>\n",
       "      <th>895</th>\n",
       "      <td>0</td>\n",
       "    </tr>\n",
       "    <tr>\n",
       "      <th>896</th>\n",
       "      <td>1</td>\n",
       "    </tr>\n",
       "  </tbody>\n",
       "</table>\n",
       "</div>"
      ],
      "text/plain": [
       "             Survived\n",
       "PassengerId          \n",
       "892                 0\n",
       "893                 0\n",
       "894                 0\n",
       "895                 0\n",
       "896                 1"
      ]
     },
     "execution_count": 112,
     "metadata": {},
     "output_type": "execute_result"
    }
   ],
   "source": [
    "prediction.head()"
   ]
  },
  {
   "cell_type": "code",
   "execution_count": 113,
   "metadata": {
    "ExecuteTime": {
     "end_time": "2020-05-17T10:43:30.760045Z",
     "start_time": "2020-05-17T10:43:30.755748Z"
    }
   },
   "outputs": [],
   "source": [
    "prediction.to_csv('../data/titanic_data/prediction.csv')"
   ]
  },
  {
   "cell_type": "code",
   "execution_count": 114,
   "metadata": {
    "ExecuteTime": {
     "end_time": "2020-05-17T10:43:31.688327Z",
     "start_time": "2020-05-17T10:43:31.681592Z"
    }
   },
   "outputs": [
    {
     "data": {
      "text/plain": [
       "(418, 1)"
      ]
     },
     "execution_count": 114,
     "metadata": {},
     "output_type": "execute_result"
    }
   ],
   "source": [
    "prediction.shape"
   ]
  },
  {
   "cell_type": "code",
   "execution_count": null,
   "metadata": {},
   "outputs": [],
   "source": []
  }
 ],
 "metadata": {
  "kernelspec": {
   "display_name": "Python 3",
   "language": "python",
   "name": "python3"
  },
  "language_info": {
   "codemirror_mode": {
    "name": "ipython",
    "version": 3
   },
   "file_extension": ".py",
   "mimetype": "text/x-python",
   "name": "python",
   "nbconvert_exporter": "python",
   "pygments_lexer": "ipython3",
   "version": "3.7.6"
  },
  "latex_envs": {
   "LaTeX_envs_menu_present": true,
   "autoclose": false,
   "autocomplete": true,
   "bibliofile": "biblio.bib",
   "cite_by": "apalike",
   "current_citInitial": 1,
   "eqLabelWithNumbers": true,
   "eqNumInitial": 1,
   "hotkeys": {
    "equation": "Ctrl-E",
    "itemize": "Ctrl-I"
   },
   "labels_anchors": false,
   "latex_user_defs": false,
   "report_style_numbering": false,
   "user_envs_cfg": false
  },
  "toc": {
   "base_numbering": 1,
   "nav_menu": {},
   "number_sections": true,
   "sideBar": true,
   "skip_h1_title": false,
   "title_cell": "Table of Contents",
   "title_sidebar": "Contents",
   "toc_cell": true,
   "toc_position": {},
   "toc_section_display": true,
   "toc_window_display": true
  },
  "varInspector": {
   "cols": {
    "lenName": 16,
    "lenType": 16,
    "lenVar": 40
   },
   "kernels_config": {
    "python": {
     "delete_cmd_postfix": "",
     "delete_cmd_prefix": "del ",
     "library": "var_list.py",
     "varRefreshCmd": "print(var_dic_list())"
    },
    "r": {
     "delete_cmd_postfix": ") ",
     "delete_cmd_prefix": "rm(",
     "library": "var_list.r",
     "varRefreshCmd": "cat(var_dic_list()) "
    }
   },
   "types_to_exclude": [
    "module",
    "function",
    "builtin_function_or_method",
    "instance",
    "_Feature"
   ],
   "window_display": false
  }
 },
 "nbformat": 4,
 "nbformat_minor": 4
}
